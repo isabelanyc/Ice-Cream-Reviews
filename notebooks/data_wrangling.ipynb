{
 "cells": [
  {
   "cell_type": "markdown",
   "metadata": {},
   "source": [
    "# Data Wrangling"
   ]
  },
  {
   "cell_type": "code",
   "execution_count": 1,
   "metadata": {},
   "outputs": [],
   "source": [
    "import pandas as pd\n",
    "import numpy as np\n",
    "import warnings\n",
    "import re\n",
    "from nltk.tokenize import WhitespaceTokenizer\n",
    "from nltk.stem.wordnet import WordNetLemmatizer\n",
    "from nltk.corpus import stopwords\n",
    "stop = stopwords.words('english')\n",
    "from library.sb_utils import save_file\n",
    "warnings.filterwarnings(\"ignore\")"
   ]
  },
  {
   "cell_type": "markdown",
   "metadata": {},
   "source": [
    "First thing is to get all the data gathered. Right now, the data is split into reviews and products, and I need to consolidate them into a single dataframe."
   ]
  },
  {
   "cell_type": "code",
   "execution_count": 2,
   "metadata": {},
   "outputs": [],
   "source": [
    "reviews = pd.read_csv('../data/combined/reviews.csv')\n",
    "products = pd.read_csv('../data/combined/products.csv')\n",
    "data = pd.read_csv('../data/combined/reviews.csv')"
   ]
  },
  {
   "cell_type": "code",
   "execution_count": 3,
   "metadata": {},
   "outputs": [
    {
     "data": {
      "text/html": [
       "<div>\n",
       "<style scoped>\n",
       "    .dataframe tbody tr th:only-of-type {\n",
       "        vertical-align: middle;\n",
       "    }\n",
       "\n",
       "    .dataframe tbody tr th {\n",
       "        vertical-align: top;\n",
       "    }\n",
       "\n",
       "    .dataframe thead th {\n",
       "        text-align: right;\n",
       "    }\n",
       "</style>\n",
       "<table border=\"1\" class=\"dataframe\">\n",
       "  <thead>\n",
       "    <tr style=\"text-align: right;\">\n",
       "      <th></th>\n",
       "      <th>brand</th>\n",
       "      <th>key</th>\n",
       "      <th>author</th>\n",
       "      <th>date</th>\n",
       "      <th>stars</th>\n",
       "      <th>title</th>\n",
       "      <th>helpful_yes</th>\n",
       "      <th>helpful_no</th>\n",
       "      <th>text</th>\n",
       "      <th>taste</th>\n",
       "      <th>ingredients</th>\n",
       "      <th>texture</th>\n",
       "      <th>likes</th>\n",
       "    </tr>\n",
       "  </thead>\n",
       "  <tbody>\n",
       "    <tr>\n",
       "      <th>0</th>\n",
       "      <td>bj</td>\n",
       "      <td>0_bj</td>\n",
       "      <td>Ilovebennjerry</td>\n",
       "      <td>2017-04-15</td>\n",
       "      <td>3</td>\n",
       "      <td>Not enough brownies!</td>\n",
       "      <td>10.0</td>\n",
       "      <td>3.0</td>\n",
       "      <td>Super good, don't get me wrong. But I came for...</td>\n",
       "      <td>NaN</td>\n",
       "      <td>NaN</td>\n",
       "      <td>NaN</td>\n",
       "      <td>NaN</td>\n",
       "    </tr>\n",
       "    <tr>\n",
       "      <th>1</th>\n",
       "      <td>bj</td>\n",
       "      <td>0_bj</td>\n",
       "      <td>Sweettooth909</td>\n",
       "      <td>2020-01-05</td>\n",
       "      <td>5</td>\n",
       "      <td>I’m OBSESSED with this pint!</td>\n",
       "      <td>3.0</td>\n",
       "      <td>0.0</td>\n",
       "      <td>I decided to try it out although I’m not a hug...</td>\n",
       "      <td>NaN</td>\n",
       "      <td>NaN</td>\n",
       "      <td>NaN</td>\n",
       "      <td>NaN</td>\n",
       "    </tr>\n",
       "    <tr>\n",
       "      <th>2</th>\n",
       "      <td>bj</td>\n",
       "      <td>0_bj</td>\n",
       "      <td>LaTanga71</td>\n",
       "      <td>2018-04-26</td>\n",
       "      <td>3</td>\n",
       "      <td>My favorite...More Caramel Please</td>\n",
       "      <td>5.0</td>\n",
       "      <td>2.0</td>\n",
       "      <td>My caramel core begins to disappear about half...</td>\n",
       "      <td>NaN</td>\n",
       "      <td>NaN</td>\n",
       "      <td>NaN</td>\n",
       "      <td>NaN</td>\n",
       "    </tr>\n",
       "  </tbody>\n",
       "</table>\n",
       "</div>"
      ],
      "text/plain": [
       "  brand   key          author        date  stars  \\\n",
       "0    bj  0_bj  Ilovebennjerry  2017-04-15      3   \n",
       "1    bj  0_bj   Sweettooth909  2020-01-05      5   \n",
       "2    bj  0_bj       LaTanga71  2018-04-26      3   \n",
       "\n",
       "                               title  helpful_yes  helpful_no  \\\n",
       "0               Not enough brownies!         10.0         3.0   \n",
       "1       I’m OBSESSED with this pint!          3.0         0.0   \n",
       "2  My favorite...More Caramel Please          5.0         2.0   \n",
       "\n",
       "                                                text  taste  ingredients  \\\n",
       "0  Super good, don't get me wrong. But I came for...    NaN          NaN   \n",
       "1  I decided to try it out although I’m not a hug...    NaN          NaN   \n",
       "2  My caramel core begins to disappear about half...    NaN          NaN   \n",
       "\n",
       "   texture likes  \n",
       "0      NaN   NaN  \n",
       "1      NaN   NaN  \n",
       "2      NaN   NaN  "
      ]
     },
     "execution_count": 3,
     "metadata": {},
     "output_type": "execute_result"
    }
   ],
   "source": [
    "reviews.head(3)"
   ]
  },
  {
   "cell_type": "code",
   "execution_count": 4,
   "metadata": {},
   "outputs": [
    {
     "data": {
      "text/html": [
       "<div>\n",
       "<style scoped>\n",
       "    .dataframe tbody tr th:only-of-type {\n",
       "        vertical-align: middle;\n",
       "    }\n",
       "\n",
       "    .dataframe tbody tr th {\n",
       "        vertical-align: top;\n",
       "    }\n",
       "\n",
       "    .dataframe thead th {\n",
       "        text-align: right;\n",
       "    }\n",
       "</style>\n",
       "<table border=\"1\" class=\"dataframe\">\n",
       "  <thead>\n",
       "    <tr style=\"text-align: right;\">\n",
       "      <th></th>\n",
       "      <th>brand</th>\n",
       "      <th>key</th>\n",
       "      <th>name</th>\n",
       "      <th>subhead</th>\n",
       "      <th>description</th>\n",
       "      <th>rating</th>\n",
       "      <th>rating_count</th>\n",
       "      <th>ingredients</th>\n",
       "    </tr>\n",
       "  </thead>\n",
       "  <tbody>\n",
       "    <tr>\n",
       "      <th>0</th>\n",
       "      <td>bj</td>\n",
       "      <td>0_bj</td>\n",
       "      <td>Salted Caramel Core</td>\n",
       "      <td>Sweet Cream Ice Cream with Blonde Brownies &amp; a...</td>\n",
       "      <td>Find your way to the ultimate ice cream experi...</td>\n",
       "      <td>3.7</td>\n",
       "      <td>208</td>\n",
       "      <td>CREAM, SKIM MILK, LIQUID SUGAR (SUGAR, WATER),...</td>\n",
       "    </tr>\n",
       "    <tr>\n",
       "      <th>1</th>\n",
       "      <td>bj</td>\n",
       "      <td>1_bj</td>\n",
       "      <td>Netflix &amp; Chilll'd™</td>\n",
       "      <td>Peanut Butter Ice Cream with Sweet &amp; Salty Pre...</td>\n",
       "      <td>There’s something for everyone to watch on Net...</td>\n",
       "      <td>4.0</td>\n",
       "      <td>127</td>\n",
       "      <td>CREAM, SKIM MILK, LIQUID SUGAR (SUGAR, WATER),...</td>\n",
       "    </tr>\n",
       "    <tr>\n",
       "      <th>2</th>\n",
       "      <td>bj</td>\n",
       "      <td>2_bj</td>\n",
       "      <td>Chip Happens</td>\n",
       "      <td>A Cold Mess of Chocolate Ice Cream with Fudge ...</td>\n",
       "      <td>Sometimes “chip” happens and everything’s a me...</td>\n",
       "      <td>4.7</td>\n",
       "      <td>130</td>\n",
       "      <td>CREAM, LIQUID SUGAR (SUGAR, WATER), SKIM MILK,...</td>\n",
       "    </tr>\n",
       "  </tbody>\n",
       "</table>\n",
       "</div>"
      ],
      "text/plain": [
       "  brand   key                 name  \\\n",
       "0    bj  0_bj  Salted Caramel Core   \n",
       "1    bj  1_bj  Netflix & Chilll'd™   \n",
       "2    bj  2_bj         Chip Happens   \n",
       "\n",
       "                                             subhead  \\\n",
       "0  Sweet Cream Ice Cream with Blonde Brownies & a...   \n",
       "1  Peanut Butter Ice Cream with Sweet & Salty Pre...   \n",
       "2  A Cold Mess of Chocolate Ice Cream with Fudge ...   \n",
       "\n",
       "                                         description  rating  rating_count  \\\n",
       "0  Find your way to the ultimate ice cream experi...     3.7           208   \n",
       "1  There’s something for everyone to watch on Net...     4.0           127   \n",
       "2  Sometimes “chip” happens and everything’s a me...     4.7           130   \n",
       "\n",
       "                                         ingredients  \n",
       "0  CREAM, SKIM MILK, LIQUID SUGAR (SUGAR, WATER),...  \n",
       "1  CREAM, SKIM MILK, LIQUID SUGAR (SUGAR, WATER),...  \n",
       "2  CREAM, LIQUID SUGAR (SUGAR, WATER), SKIM MILK,...  "
      ]
     },
     "execution_count": 4,
     "metadata": {},
     "output_type": "execute_result"
    }
   ],
   "source": [
    "products.head(3)"
   ]
  },
  {
   "cell_type": "markdown",
   "metadata": {},
   "source": [
    "Before I create any new dataframes, I need to make sure that the the keys align."
   ]
  },
  {
   "cell_type": "code",
   "execution_count": 5,
   "metadata": {},
   "outputs": [
    {
     "data": {
      "text/plain": [
       "True"
      ]
     },
     "execution_count": 5,
     "metadata": {},
     "output_type": "execute_result"
    }
   ],
   "source": [
    "set(products['key']) == set(reviews['key'])"
   ]
  },
  {
   "cell_type": "markdown",
   "metadata": {},
   "source": [
    "Perfect! Now I can perform the merge."
   ]
  },
  {
   "cell_type": "code",
   "execution_count": 6,
   "metadata": {},
   "outputs": [],
   "source": [
    "data['name'] = None \n",
    "data['description'] = None\n",
    "data['rating'] = None \n",
    "data['rating_count'] = None "
   ]
  },
  {
   "cell_type": "code",
   "execution_count": 7,
   "metadata": {},
   "outputs": [],
   "source": [
    "for i in range(len(reviews)):\n",
    "    key = reviews['key'].iloc[i]\n",
    "    df = products[products['key'] == key]\n",
    "    data['name'].iloc[i] = pd.DataFrame(df['name']).values[0][0]\n",
    "    data['description'].iloc[i] = pd.DataFrame(df['description']).values[0][0]\n",
    "    data['rating'].iloc[i] = pd.DataFrame(df['rating']).values[0][0]\n",
    "    data['rating_count'].iloc[i] = pd.DataFrame(df['rating_count']).values[0][0]"
   ]
  },
  {
   "cell_type": "markdown",
   "metadata": {},
   "source": [
    "Now we take a peek at the data and it's shape."
   ]
  },
  {
   "cell_type": "code",
   "execution_count": 8,
   "metadata": {},
   "outputs": [
    {
     "data": {
      "text/html": [
       "<div>\n",
       "<style scoped>\n",
       "    .dataframe tbody tr th:only-of-type {\n",
       "        vertical-align: middle;\n",
       "    }\n",
       "\n",
       "    .dataframe tbody tr th {\n",
       "        vertical-align: top;\n",
       "    }\n",
       "\n",
       "    .dataframe thead th {\n",
       "        text-align: right;\n",
       "    }\n",
       "</style>\n",
       "<table border=\"1\" class=\"dataframe\">\n",
       "  <thead>\n",
       "    <tr style=\"text-align: right;\">\n",
       "      <th></th>\n",
       "      <th>brand</th>\n",
       "      <th>key</th>\n",
       "      <th>author</th>\n",
       "      <th>date</th>\n",
       "      <th>stars</th>\n",
       "      <th>title</th>\n",
       "      <th>helpful_yes</th>\n",
       "      <th>helpful_no</th>\n",
       "      <th>text</th>\n",
       "      <th>taste</th>\n",
       "      <th>ingredients</th>\n",
       "      <th>texture</th>\n",
       "      <th>likes</th>\n",
       "      <th>name</th>\n",
       "      <th>description</th>\n",
       "      <th>rating</th>\n",
       "      <th>rating_count</th>\n",
       "    </tr>\n",
       "  </thead>\n",
       "  <tbody>\n",
       "    <tr>\n",
       "      <th>0</th>\n",
       "      <td>bj</td>\n",
       "      <td>0_bj</td>\n",
       "      <td>Ilovebennjerry</td>\n",
       "      <td>2017-04-15</td>\n",
       "      <td>3</td>\n",
       "      <td>Not enough brownies!</td>\n",
       "      <td>10.0</td>\n",
       "      <td>3.0</td>\n",
       "      <td>Super good, don't get me wrong. But I came for...</td>\n",
       "      <td>NaN</td>\n",
       "      <td>NaN</td>\n",
       "      <td>NaN</td>\n",
       "      <td>NaN</td>\n",
       "      <td>Salted Caramel Core</td>\n",
       "      <td>Find your way to the ultimate ice cream experi...</td>\n",
       "      <td>3.7</td>\n",
       "      <td>208</td>\n",
       "    </tr>\n",
       "    <tr>\n",
       "      <th>1</th>\n",
       "      <td>bj</td>\n",
       "      <td>0_bj</td>\n",
       "      <td>Sweettooth909</td>\n",
       "      <td>2020-01-05</td>\n",
       "      <td>5</td>\n",
       "      <td>I’m OBSESSED with this pint!</td>\n",
       "      <td>3.0</td>\n",
       "      <td>0.0</td>\n",
       "      <td>I decided to try it out although I’m not a hug...</td>\n",
       "      <td>NaN</td>\n",
       "      <td>NaN</td>\n",
       "      <td>NaN</td>\n",
       "      <td>NaN</td>\n",
       "      <td>Salted Caramel Core</td>\n",
       "      <td>Find your way to the ultimate ice cream experi...</td>\n",
       "      <td>3.7</td>\n",
       "      <td>208</td>\n",
       "    </tr>\n",
       "    <tr>\n",
       "      <th>2</th>\n",
       "      <td>bj</td>\n",
       "      <td>0_bj</td>\n",
       "      <td>LaTanga71</td>\n",
       "      <td>2018-04-26</td>\n",
       "      <td>3</td>\n",
       "      <td>My favorite...More Caramel Please</td>\n",
       "      <td>5.0</td>\n",
       "      <td>2.0</td>\n",
       "      <td>My caramel core begins to disappear about half...</td>\n",
       "      <td>NaN</td>\n",
       "      <td>NaN</td>\n",
       "      <td>NaN</td>\n",
       "      <td>NaN</td>\n",
       "      <td>Salted Caramel Core</td>\n",
       "      <td>Find your way to the ultimate ice cream experi...</td>\n",
       "      <td>3.7</td>\n",
       "      <td>208</td>\n",
       "    </tr>\n",
       "  </tbody>\n",
       "</table>\n",
       "</div>"
      ],
      "text/plain": [
       "  brand   key          author        date  stars  \\\n",
       "0    bj  0_bj  Ilovebennjerry  2017-04-15      3   \n",
       "1    bj  0_bj   Sweettooth909  2020-01-05      5   \n",
       "2    bj  0_bj       LaTanga71  2018-04-26      3   \n",
       "\n",
       "                               title  helpful_yes  helpful_no  \\\n",
       "0               Not enough brownies!         10.0         3.0   \n",
       "1       I’m OBSESSED with this pint!          3.0         0.0   \n",
       "2  My favorite...More Caramel Please          5.0         2.0   \n",
       "\n",
       "                                                text  taste  ingredients  \\\n",
       "0  Super good, don't get me wrong. But I came for...    NaN          NaN   \n",
       "1  I decided to try it out although I’m not a hug...    NaN          NaN   \n",
       "2  My caramel core begins to disappear about half...    NaN          NaN   \n",
       "\n",
       "   texture likes                 name  \\\n",
       "0      NaN   NaN  Salted Caramel Core   \n",
       "1      NaN   NaN  Salted Caramel Core   \n",
       "2      NaN   NaN  Salted Caramel Core   \n",
       "\n",
       "                                         description rating rating_count  \n",
       "0  Find your way to the ultimate ice cream experi...    3.7          208  \n",
       "1  Find your way to the ultimate ice cream experi...    3.7          208  \n",
       "2  Find your way to the ultimate ice cream experi...    3.7          208  "
      ]
     },
     "execution_count": 8,
     "metadata": {},
     "output_type": "execute_result"
    }
   ],
   "source": [
    "data.head(3)"
   ]
  },
  {
   "cell_type": "code",
   "execution_count": 9,
   "metadata": {},
   "outputs": [
    {
     "data": {
      "text/plain": [
       "(21674, 17)"
      ]
     },
     "execution_count": 9,
     "metadata": {},
     "output_type": "execute_result"
    }
   ],
   "source": [
    "data.shape"
   ]
  },
  {
   "cell_type": "markdown",
   "metadata": {},
   "source": [
    "Now that there is one complete dataset, I can start checking out some of the data."
   ]
  },
  {
   "cell_type": "code",
   "execution_count": 10,
   "metadata": {},
   "outputs": [
    {
     "name": "stdout",
     "output_type": "stream",
     "text": [
      "<class 'pandas.core.frame.DataFrame'>\n",
      "RangeIndex: 21674 entries, 0 to 21673\n",
      "Data columns (total 17 columns):\n",
      " #   Column        Non-Null Count  Dtype  \n",
      "---  ------        --------------  -----  \n",
      " 0   brand         21674 non-null  object \n",
      " 1   key           21674 non-null  object \n",
      " 2   author        20874 non-null  object \n",
      " 3   date          21674 non-null  object \n",
      " 4   stars         21674 non-null  int64  \n",
      " 5   title         16275 non-null  object \n",
      " 6   helpful_yes   21674 non-null  float64\n",
      " 7   helpful_no    21674 non-null  float64\n",
      " 8   text          21674 non-null  object \n",
      " 9   taste         4265 non-null   float64\n",
      " 10  ingredients   4265 non-null   float64\n",
      " 11  texture       4265 non-null   float64\n",
      " 12  likes         2295 non-null   object \n",
      " 13  name          21674 non-null  object \n",
      " 14  description   21139 non-null  object \n",
      " 15  rating        21674 non-null  object \n",
      " 16  rating_count  21674 non-null  object \n",
      "dtypes: float64(5), int64(1), object(11)\n",
      "memory usage: 2.8+ MB\n"
     ]
    }
   ],
   "source": [
    "data.info()"
   ]
  },
  {
   "cell_type": "markdown",
   "metadata": {},
   "source": [
    "Check for the number of nulls in each column."
   ]
  },
  {
   "cell_type": "code",
   "execution_count": 11,
   "metadata": {},
   "outputs": [
    {
     "name": "stdout",
     "output_type": "stream",
     "text": [
      "brand:  0\n",
      "key:  0\n",
      "author:  800\n",
      "date:  0\n",
      "stars:  0\n",
      "title:  5399\n",
      "helpful_yes:  0\n",
      "helpful_no:  0\n",
      "text:  0\n",
      "taste:  17409\n",
      "ingredients:  17409\n",
      "texture:  17409\n",
      "likes:  19379\n",
      "name:  0\n",
      "description:  535\n",
      "rating:  0\n",
      "rating_count:  0\n"
     ]
    }
   ],
   "source": [
    "for column in data:\n",
    "    print(column + \": \", sum(data[column].isnull()))"
   ]
  },
  {
   "cell_type": "markdown",
   "metadata": {},
   "source": [
    "Seems that `taste`, `ingredients`, `texture` and `likes` have a fair number of null values, so I'll drop those. Time is also irrelevant to this project, so I will also drop `date`."
   ]
  },
  {
   "cell_type": "code",
   "execution_count": 12,
   "metadata": {},
   "outputs": [],
   "source": [
    "data.drop(['taste', 'ingredients', 'texture', 'likes', 'date', 'helpful_yes', 'helpful_no'], axis=1, inplace=True)"
   ]
  },
  {
   "cell_type": "code",
   "execution_count": 13,
   "metadata": {},
   "outputs": [
    {
     "data": {
      "text/html": [
       "<div>\n",
       "<style scoped>\n",
       "    .dataframe tbody tr th:only-of-type {\n",
       "        vertical-align: middle;\n",
       "    }\n",
       "\n",
       "    .dataframe tbody tr th {\n",
       "        vertical-align: top;\n",
       "    }\n",
       "\n",
       "    .dataframe thead th {\n",
       "        text-align: right;\n",
       "    }\n",
       "</style>\n",
       "<table border=\"1\" class=\"dataframe\">\n",
       "  <thead>\n",
       "    <tr style=\"text-align: right;\">\n",
       "      <th></th>\n",
       "      <th>brand</th>\n",
       "      <th>key</th>\n",
       "      <th>author</th>\n",
       "      <th>stars</th>\n",
       "      <th>title</th>\n",
       "      <th>text</th>\n",
       "      <th>name</th>\n",
       "      <th>description</th>\n",
       "      <th>rating</th>\n",
       "      <th>rating_count</th>\n",
       "    </tr>\n",
       "  </thead>\n",
       "  <tbody>\n",
       "    <tr>\n",
       "      <th>0</th>\n",
       "      <td>bj</td>\n",
       "      <td>0_bj</td>\n",
       "      <td>Ilovebennjerry</td>\n",
       "      <td>3</td>\n",
       "      <td>Not enough brownies!</td>\n",
       "      <td>Super good, don't get me wrong. But I came for...</td>\n",
       "      <td>Salted Caramel Core</td>\n",
       "      <td>Find your way to the ultimate ice cream experi...</td>\n",
       "      <td>3.7</td>\n",
       "      <td>208</td>\n",
       "    </tr>\n",
       "    <tr>\n",
       "      <th>1</th>\n",
       "      <td>bj</td>\n",
       "      <td>0_bj</td>\n",
       "      <td>Sweettooth909</td>\n",
       "      <td>5</td>\n",
       "      <td>I’m OBSESSED with this pint!</td>\n",
       "      <td>I decided to try it out although I’m not a hug...</td>\n",
       "      <td>Salted Caramel Core</td>\n",
       "      <td>Find your way to the ultimate ice cream experi...</td>\n",
       "      <td>3.7</td>\n",
       "      <td>208</td>\n",
       "    </tr>\n",
       "    <tr>\n",
       "      <th>2</th>\n",
       "      <td>bj</td>\n",
       "      <td>0_bj</td>\n",
       "      <td>LaTanga71</td>\n",
       "      <td>3</td>\n",
       "      <td>My favorite...More Caramel Please</td>\n",
       "      <td>My caramel core begins to disappear about half...</td>\n",
       "      <td>Salted Caramel Core</td>\n",
       "      <td>Find your way to the ultimate ice cream experi...</td>\n",
       "      <td>3.7</td>\n",
       "      <td>208</td>\n",
       "    </tr>\n",
       "  </tbody>\n",
       "</table>\n",
       "</div>"
      ],
      "text/plain": [
       "  brand   key          author  stars                              title  \\\n",
       "0    bj  0_bj  Ilovebennjerry      3               Not enough brownies!   \n",
       "1    bj  0_bj   Sweettooth909      5       I’m OBSESSED with this pint!   \n",
       "2    bj  0_bj       LaTanga71      3  My favorite...More Caramel Please   \n",
       "\n",
       "                                                text                 name  \\\n",
       "0  Super good, don't get me wrong. But I came for...  Salted Caramel Core   \n",
       "1  I decided to try it out although I’m not a hug...  Salted Caramel Core   \n",
       "2  My caramel core begins to disappear about half...  Salted Caramel Core   \n",
       "\n",
       "                                         description rating rating_count  \n",
       "0  Find your way to the ultimate ice cream experi...    3.7          208  \n",
       "1  Find your way to the ultimate ice cream experi...    3.7          208  \n",
       "2  Find your way to the ultimate ice cream experi...    3.7          208  "
      ]
     },
     "execution_count": 13,
     "metadata": {},
     "output_type": "execute_result"
    }
   ],
   "source": [
    "data.head(3)"
   ]
  },
  {
   "cell_type": "markdown",
   "metadata": {},
   "source": [
    "This looks better. Now, to prep that data for sentiment analysis and EDA, I am going to combine the title and text data into a single column. But first, I need to make sure that the data is all in string format."
   ]
  },
  {
   "cell_type": "code",
   "execution_count": 14,
   "metadata": {},
   "outputs": [],
   "source": [
    "data['text'] = data['text'].astype(str)\n",
    "data['title'] = data['title'].astype(str)"
   ]
  },
  {
   "cell_type": "code",
   "execution_count": 15,
   "metadata": {},
   "outputs": [],
   "source": [
    "data['title'].fillna('', inplace = True)"
   ]
  },
  {
   "cell_type": "code",
   "execution_count": 16,
   "metadata": {},
   "outputs": [],
   "source": [
    "data['text'] = data[['title', 'text']].apply('-'.join, axis=1)"
   ]
  },
  {
   "cell_type": "code",
   "execution_count": 17,
   "metadata": {},
   "outputs": [],
   "source": [
    "data.drop(['title'], axis=1, inplace=True)"
   ]
  },
  {
   "cell_type": "code",
   "execution_count": 18,
   "metadata": {
    "scrolled": true
   },
   "outputs": [
    {
     "data": {
      "text/html": [
       "<div>\n",
       "<style scoped>\n",
       "    .dataframe tbody tr th:only-of-type {\n",
       "        vertical-align: middle;\n",
       "    }\n",
       "\n",
       "    .dataframe tbody tr th {\n",
       "        vertical-align: top;\n",
       "    }\n",
       "\n",
       "    .dataframe thead th {\n",
       "        text-align: right;\n",
       "    }\n",
       "</style>\n",
       "<table border=\"1\" class=\"dataframe\">\n",
       "  <thead>\n",
       "    <tr style=\"text-align: right;\">\n",
       "      <th></th>\n",
       "      <th>brand</th>\n",
       "      <th>key</th>\n",
       "      <th>author</th>\n",
       "      <th>stars</th>\n",
       "      <th>text</th>\n",
       "      <th>name</th>\n",
       "      <th>description</th>\n",
       "      <th>rating</th>\n",
       "      <th>rating_count</th>\n",
       "    </tr>\n",
       "  </thead>\n",
       "  <tbody>\n",
       "    <tr>\n",
       "      <th>0</th>\n",
       "      <td>bj</td>\n",
       "      <td>0_bj</td>\n",
       "      <td>Ilovebennjerry</td>\n",
       "      <td>3</td>\n",
       "      <td>Not enough brownies!-Super good, don't get me ...</td>\n",
       "      <td>Salted Caramel Core</td>\n",
       "      <td>Find your way to the ultimate ice cream experi...</td>\n",
       "      <td>3.7</td>\n",
       "      <td>208</td>\n",
       "    </tr>\n",
       "    <tr>\n",
       "      <th>1</th>\n",
       "      <td>bj</td>\n",
       "      <td>0_bj</td>\n",
       "      <td>Sweettooth909</td>\n",
       "      <td>5</td>\n",
       "      <td>I’m OBSESSED with this pint!-I decided to try ...</td>\n",
       "      <td>Salted Caramel Core</td>\n",
       "      <td>Find your way to the ultimate ice cream experi...</td>\n",
       "      <td>3.7</td>\n",
       "      <td>208</td>\n",
       "    </tr>\n",
       "    <tr>\n",
       "      <th>2</th>\n",
       "      <td>bj</td>\n",
       "      <td>0_bj</td>\n",
       "      <td>LaTanga71</td>\n",
       "      <td>3</td>\n",
       "      <td>My favorite...More Caramel Please-My caramel c...</td>\n",
       "      <td>Salted Caramel Core</td>\n",
       "      <td>Find your way to the ultimate ice cream experi...</td>\n",
       "      <td>3.7</td>\n",
       "      <td>208</td>\n",
       "    </tr>\n",
       "  </tbody>\n",
       "</table>\n",
       "</div>"
      ],
      "text/plain": [
       "  brand   key          author  stars  \\\n",
       "0    bj  0_bj  Ilovebennjerry      3   \n",
       "1    bj  0_bj   Sweettooth909      5   \n",
       "2    bj  0_bj       LaTanga71      3   \n",
       "\n",
       "                                                text                 name  \\\n",
       "0  Not enough brownies!-Super good, don't get me ...  Salted Caramel Core   \n",
       "1  I’m OBSESSED with this pint!-I decided to try ...  Salted Caramel Core   \n",
       "2  My favorite...More Caramel Please-My caramel c...  Salted Caramel Core   \n",
       "\n",
       "                                         description rating rating_count  \n",
       "0  Find your way to the ultimate ice cream experi...    3.7          208  \n",
       "1  Find your way to the ultimate ice cream experi...    3.7          208  \n",
       "2  Find your way to the ultimate ice cream experi...    3.7          208  "
      ]
     },
     "execution_count": 18,
     "metadata": {},
     "output_type": "execute_result"
    }
   ],
   "source": [
    "data.head(3)"
   ]
  },
  {
   "cell_type": "code",
   "execution_count": 19,
   "metadata": {},
   "outputs": [
    {
     "data": {
      "text/plain": [
       "(21674, 9)"
      ]
     },
     "execution_count": 19,
     "metadata": {},
     "output_type": "execute_result"
    }
   ],
   "source": [
    "data.shape"
   ]
  },
  {
   "cell_type": "markdown",
   "metadata": {},
   "source": [
    "I'll also filter out any reviews that have less than 10 total ratings. "
   ]
  },
  {
   "cell_type": "code",
   "execution_count": 20,
   "metadata": {},
   "outputs": [],
   "source": [
    "data = data[data.rating_count > 10]"
   ]
  },
  {
   "cell_type": "code",
   "execution_count": 21,
   "metadata": {},
   "outputs": [
    {
     "data": {
      "text/plain": [
       "(21610, 9)"
      ]
     },
     "execution_count": 21,
     "metadata": {},
     "output_type": "execute_result"
    }
   ],
   "source": [
    "data.shape"
   ]
  },
  {
   "cell_type": "markdown",
   "metadata": {},
   "source": [
    "I will also clean the text up a bit and remove the stop words, so I can have a more usable text column for EDA."
   ]
  },
  {
   "cell_type": "code",
   "execution_count": 22,
   "metadata": {},
   "outputs": [],
   "source": [
    "def cleanText(text):\n",
    "    text = re.sub(r'https?:\\/\\/\\S+', '', text) # remove links\n",
    "    text = re.sub(r'@[A-Za-z0-0]+', '', text) # remove @ and numbers\n",
    "    text = re.sub(r'#', '', text)\n",
    "    return text"
   ]
  },
  {
   "cell_type": "code",
   "execution_count": 23,
   "metadata": {},
   "outputs": [],
   "source": [
    "data['text'] = data['text'].apply(cleanText)"
   ]
  },
  {
   "cell_type": "code",
   "execution_count": 24,
   "metadata": {},
   "outputs": [],
   "source": [
    "data['stop_text'] = data['text'].apply(lambda words: ' '.join(word.lower() for word in words.split() if word not in stop))"
   ]
  },
  {
   "cell_type": "markdown",
   "metadata": {},
   "source": [
    "I'll also use a tokenizer and get the lemma from each word. This should make the modelling and sentiment analysis a bit easier."
   ]
  },
  {
   "cell_type": "code",
   "execution_count": 25,
   "metadata": {},
   "outputs": [],
   "source": [
    "tokenizer = WhitespaceTokenizer()\n",
    "lemmatizer = WordNetLemmatizer()"
   ]
  },
  {
   "cell_type": "code",
   "execution_count": 26,
   "metadata": {},
   "outputs": [],
   "source": [
    "def lemmatize_text(text):\n",
    "    return [lemmatizer.lemmatize(w) for w in tokenizer.tokenize(text)]"
   ]
  },
  {
   "cell_type": "code",
   "execution_count": 27,
   "metadata": {},
   "outputs": [],
   "source": [
    "data['stop_text'] = data['stop_text'].apply(lemmatize_text)"
   ]
  },
  {
   "cell_type": "code",
   "execution_count": 28,
   "metadata": {},
   "outputs": [],
   "source": [
    "data['stop_text'] = [' '.join(map(str, l)) for l in data['stop_text']]"
   ]
  },
  {
   "cell_type": "code",
   "execution_count": 29,
   "metadata": {
    "scrolled": true
   },
   "outputs": [
    {
     "data": {
      "text/html": [
       "<div>\n",
       "<style scoped>\n",
       "    .dataframe tbody tr th:only-of-type {\n",
       "        vertical-align: middle;\n",
       "    }\n",
       "\n",
       "    .dataframe tbody tr th {\n",
       "        vertical-align: top;\n",
       "    }\n",
       "\n",
       "    .dataframe thead th {\n",
       "        text-align: right;\n",
       "    }\n",
       "</style>\n",
       "<table border=\"1\" class=\"dataframe\">\n",
       "  <thead>\n",
       "    <tr style=\"text-align: right;\">\n",
       "      <th></th>\n",
       "      <th>brand</th>\n",
       "      <th>key</th>\n",
       "      <th>author</th>\n",
       "      <th>stars</th>\n",
       "      <th>text</th>\n",
       "      <th>name</th>\n",
       "      <th>description</th>\n",
       "      <th>rating</th>\n",
       "      <th>rating_count</th>\n",
       "      <th>stop_text</th>\n",
       "    </tr>\n",
       "  </thead>\n",
       "  <tbody>\n",
       "    <tr>\n",
       "      <th>0</th>\n",
       "      <td>bj</td>\n",
       "      <td>0_bj</td>\n",
       "      <td>Ilovebennjerry</td>\n",
       "      <td>3</td>\n",
       "      <td>Not enough brownies!-Super good, don't get me ...</td>\n",
       "      <td>Salted Caramel Core</td>\n",
       "      <td>Find your way to the ultimate ice cream experi...</td>\n",
       "      <td>3.7</td>\n",
       "      <td>208</td>\n",
       "      <td>not enough brownies!-super good, get wrong. bu...</td>\n",
       "    </tr>\n",
       "    <tr>\n",
       "      <th>1</th>\n",
       "      <td>bj</td>\n",
       "      <td>0_bj</td>\n",
       "      <td>Sweettooth909</td>\n",
       "      <td>5</td>\n",
       "      <td>I’m OBSESSED with this pint!-I decided to try ...</td>\n",
       "      <td>Salted Caramel Core</td>\n",
       "      <td>Find your way to the ultimate ice cream experi...</td>\n",
       "      <td>3.7</td>\n",
       "      <td>208</td>\n",
       "      <td>i’m obsessed pint!-i decided try although i’m ...</td>\n",
       "    </tr>\n",
       "    <tr>\n",
       "      <th>2</th>\n",
       "      <td>bj</td>\n",
       "      <td>0_bj</td>\n",
       "      <td>LaTanga71</td>\n",
       "      <td>3</td>\n",
       "      <td>My favorite...More Caramel Please-My caramel c...</td>\n",
       "      <td>Salted Caramel Core</td>\n",
       "      <td>Find your way to the ultimate ice cream experi...</td>\n",
       "      <td>3.7</td>\n",
       "      <td>208</td>\n",
       "      <td>my favorite...more caramel please-my caramel c...</td>\n",
       "    </tr>\n",
       "  </tbody>\n",
       "</table>\n",
       "</div>"
      ],
      "text/plain": [
       "  brand   key          author  stars  \\\n",
       "0    bj  0_bj  Ilovebennjerry      3   \n",
       "1    bj  0_bj   Sweettooth909      5   \n",
       "2    bj  0_bj       LaTanga71      3   \n",
       "\n",
       "                                                text                 name  \\\n",
       "0  Not enough brownies!-Super good, don't get me ...  Salted Caramel Core   \n",
       "1  I’m OBSESSED with this pint!-I decided to try ...  Salted Caramel Core   \n",
       "2  My favorite...More Caramel Please-My caramel c...  Salted Caramel Core   \n",
       "\n",
       "                                         description rating rating_count  \\\n",
       "0  Find your way to the ultimate ice cream experi...    3.7          208   \n",
       "1  Find your way to the ultimate ice cream experi...    3.7          208   \n",
       "2  Find your way to the ultimate ice cream experi...    3.7          208   \n",
       "\n",
       "                                           stop_text  \n",
       "0  not enough brownies!-super good, get wrong. bu...  \n",
       "1  i’m obsessed pint!-i decided try although i’m ...  \n",
       "2  my favorite...more caramel please-my caramel c...  "
      ]
     },
     "execution_count": 29,
     "metadata": {},
     "output_type": "execute_result"
    }
   ],
   "source": [
    "data.head(3)"
   ]
  },
  {
   "cell_type": "markdown",
   "metadata": {},
   "source": [
    "One last step. I am going to do a bit of feature engineering here. \n",
    "\n",
    "Ratings are given stars on a scale from 1 to 5. This would therefore give 5 different potential classes for each record. This makes this problem into a multi classification problem. I am not sure yet if I want to do a multi classification problem or a binary classification problem yet, so I am going to create a new column, `good_review`, that will take the value `Good` if `stars` is 4 or 5, and `Bad` otherwise"
   ]
  },
  {
   "cell_type": "code",
   "execution_count": 30,
   "metadata": {},
   "outputs": [],
   "source": [
    "data['good_review'] = np.where((data.stars == 4) | (data.stars==5), \"Good\", \"Bad\")"
   ]
  },
  {
   "cell_type": "code",
   "execution_count": 31,
   "metadata": {},
   "outputs": [
    {
     "data": {
      "text/html": [
       "<div>\n",
       "<style scoped>\n",
       "    .dataframe tbody tr th:only-of-type {\n",
       "        vertical-align: middle;\n",
       "    }\n",
       "\n",
       "    .dataframe tbody tr th {\n",
       "        vertical-align: top;\n",
       "    }\n",
       "\n",
       "    .dataframe thead th {\n",
       "        text-align: right;\n",
       "    }\n",
       "</style>\n",
       "<table border=\"1\" class=\"dataframe\">\n",
       "  <thead>\n",
       "    <tr style=\"text-align: right;\">\n",
       "      <th></th>\n",
       "      <th>brand</th>\n",
       "      <th>key</th>\n",
       "      <th>author</th>\n",
       "      <th>stars</th>\n",
       "      <th>text</th>\n",
       "      <th>name</th>\n",
       "      <th>description</th>\n",
       "      <th>rating</th>\n",
       "      <th>rating_count</th>\n",
       "      <th>stop_text</th>\n",
       "      <th>good_review</th>\n",
       "    </tr>\n",
       "  </thead>\n",
       "  <tbody>\n",
       "    <tr>\n",
       "      <th>0</th>\n",
       "      <td>bj</td>\n",
       "      <td>0_bj</td>\n",
       "      <td>Ilovebennjerry</td>\n",
       "      <td>3</td>\n",
       "      <td>Not enough brownies!-Super good, don't get me ...</td>\n",
       "      <td>Salted Caramel Core</td>\n",
       "      <td>Find your way to the ultimate ice cream experi...</td>\n",
       "      <td>3.7</td>\n",
       "      <td>208</td>\n",
       "      <td>not enough brownies!-super good, get wrong. bu...</td>\n",
       "      <td>Bad</td>\n",
       "    </tr>\n",
       "    <tr>\n",
       "      <th>1</th>\n",
       "      <td>bj</td>\n",
       "      <td>0_bj</td>\n",
       "      <td>Sweettooth909</td>\n",
       "      <td>5</td>\n",
       "      <td>I’m OBSESSED with this pint!-I decided to try ...</td>\n",
       "      <td>Salted Caramel Core</td>\n",
       "      <td>Find your way to the ultimate ice cream experi...</td>\n",
       "      <td>3.7</td>\n",
       "      <td>208</td>\n",
       "      <td>i’m obsessed pint!-i decided try although i’m ...</td>\n",
       "      <td>Good</td>\n",
       "    </tr>\n",
       "    <tr>\n",
       "      <th>2</th>\n",
       "      <td>bj</td>\n",
       "      <td>0_bj</td>\n",
       "      <td>LaTanga71</td>\n",
       "      <td>3</td>\n",
       "      <td>My favorite...More Caramel Please-My caramel c...</td>\n",
       "      <td>Salted Caramel Core</td>\n",
       "      <td>Find your way to the ultimate ice cream experi...</td>\n",
       "      <td>3.7</td>\n",
       "      <td>208</td>\n",
       "      <td>my favorite...more caramel please-my caramel c...</td>\n",
       "      <td>Bad</td>\n",
       "    </tr>\n",
       "    <tr>\n",
       "      <th>3</th>\n",
       "      <td>bj</td>\n",
       "      <td>0_bj</td>\n",
       "      <td>chicago220</td>\n",
       "      <td>5</td>\n",
       "      <td>Obsessed!!!-Why are people complaining about t...</td>\n",
       "      <td>Salted Caramel Core</td>\n",
       "      <td>Find your way to the ultimate ice cream experi...</td>\n",
       "      <td>3.7</td>\n",
       "      <td>208</td>\n",
       "      <td>obsessed!!!-why people complaining blonde brow...</td>\n",
       "      <td>Good</td>\n",
       "    </tr>\n",
       "  </tbody>\n",
       "</table>\n",
       "</div>"
      ],
      "text/plain": [
       "  brand   key          author  stars  \\\n",
       "0    bj  0_bj  Ilovebennjerry      3   \n",
       "1    bj  0_bj   Sweettooth909      5   \n",
       "2    bj  0_bj       LaTanga71      3   \n",
       "3    bj  0_bj      chicago220      5   \n",
       "\n",
       "                                                text                 name  \\\n",
       "0  Not enough brownies!-Super good, don't get me ...  Salted Caramel Core   \n",
       "1  I’m OBSESSED with this pint!-I decided to try ...  Salted Caramel Core   \n",
       "2  My favorite...More Caramel Please-My caramel c...  Salted Caramel Core   \n",
       "3  Obsessed!!!-Why are people complaining about t...  Salted Caramel Core   \n",
       "\n",
       "                                         description rating rating_count  \\\n",
       "0  Find your way to the ultimate ice cream experi...    3.7          208   \n",
       "1  Find your way to the ultimate ice cream experi...    3.7          208   \n",
       "2  Find your way to the ultimate ice cream experi...    3.7          208   \n",
       "3  Find your way to the ultimate ice cream experi...    3.7          208   \n",
       "\n",
       "                                           stop_text good_review  \n",
       "0  not enough brownies!-super good, get wrong. bu...         Bad  \n",
       "1  i’m obsessed pint!-i decided try although i’m ...        Good  \n",
       "2  my favorite...more caramel please-my caramel c...         Bad  \n",
       "3  obsessed!!!-why people complaining blonde brow...        Good  "
      ]
     },
     "execution_count": 31,
     "metadata": {},
     "output_type": "execute_result"
    }
   ],
   "source": [
    "data.head(4)"
   ]
  },
  {
   "cell_type": "markdown",
   "metadata": {},
   "source": [
    "Great! This looks like a pretty solid data set to kick things off with. I'll save this as a csv and move on to the EDA."
   ]
  },
  {
   "cell_type": "markdown",
   "metadata": {},
   "source": [
    "# Save Data"
   ]
  },
  {
   "cell_type": "code",
   "execution_count": 32,
   "metadata": {},
   "outputs": [
    {
     "name": "stdout",
     "output_type": "stream",
     "text": [
      "A file already exists with this name.\n",
      "\n",
      "Do you want to overwrite? (Y/N)Y\n",
      "Writing file.  \"../data/ice_cream_data.csv\"\n"
     ]
    }
   ],
   "source": [
    "save_file(data, 'ice_cream_data.csv', '../data')"
   ]
  }
 ],
 "metadata": {
  "kernelspec": {
   "display_name": "Python 3",
   "language": "python",
   "name": "python3"
  },
  "language_info": {
   "codemirror_mode": {
    "name": "ipython",
    "version": 3
   },
   "file_extension": ".py",
   "mimetype": "text/x-python",
   "name": "python",
   "nbconvert_exporter": "python",
   "pygments_lexer": "ipython3",
   "version": "3.8.3"
  }
 },
 "nbformat": 4,
 "nbformat_minor": 4
}
