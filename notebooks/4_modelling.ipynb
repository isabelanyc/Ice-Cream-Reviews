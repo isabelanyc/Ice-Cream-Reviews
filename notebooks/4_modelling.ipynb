{
 "cells": [
  {
   "cell_type": "markdown",
   "metadata": {},
   "source": [
    "# Modelling"
   ]
  },
  {
   "cell_type": "markdown",
   "metadata": {},
   "source": [
    "In this final notebook, I will select a model to use and to recommend for classifying ice cream reviews. The data has already been preprocessed from my [previous notebook](https://github.com/isabelanyc/Ice-Cream-Reviews/blob/main/notebooks/3_preprocessing.ipynb). Once the modelling has been completed, I'll give a breif summary of the work that has been done and show the overall performance of the model.\n",
    "\n",
    "I'll start by loading in some libraries that will be handy here."
   ]
  },
  {
   "cell_type": "code",
   "execution_count": 1,
   "metadata": {
    "scrolled": true
   },
   "outputs": [],
   "source": [
    "import time\n",
    "import warnings\n",
    "warnings.filterwarnings(\"ignore\")\n",
    "import matplotlib.pyplot as plt\n",
    "import pandas as pd\n",
    "from sklearn.svm import SVC\n",
    "from sklearn.dummy import DummyClassifier\n",
    "from sklearn.pipeline import make_pipeline\n",
    "from sklearn.naive_bayes import MultinomialNB\n",
    "from sklearn.linear_model import LogisticRegression\n",
    "from sklearn.model_selection import RandomizedSearchCV\n",
    "from sklearn.linear_model import PassiveAggressiveClassifier\n",
    "from sklearn.metrics import classification_report\n",
    "from sklearn.metrics import auc, roc_curve, roc_auc_score"
   ]
  },
  {
   "cell_type": "markdown",
   "metadata": {},
   "source": [
    "## Load the Data"
   ]
  },
  {
   "cell_type": "markdown",
   "metadata": {},
   "source": [
    "Next, I'll load the preprocessed data that contains all the textual information, as a reference. Then I'll load in the testing and training data that was split and transformed using TF-IDF."
   ]
  },
  {
   "cell_type": "code",
   "execution_count": 2,
   "metadata": {},
   "outputs": [],
   "source": [
    "preprocessed_data = pd.read_csv('../data/preprocessed_data.csv', index_col=0)"
   ]
  },
  {
   "cell_type": "code",
   "execution_count": 3,
   "metadata": {},
   "outputs": [
    {
     "data": {
      "text/html": [
       "<div>\n",
       "<style scoped>\n",
       "    .dataframe tbody tr th:only-of-type {\n",
       "        vertical-align: middle;\n",
       "    }\n",
       "\n",
       "    .dataframe tbody tr th {\n",
       "        vertical-align: top;\n",
       "    }\n",
       "\n",
       "    .dataframe thead th {\n",
       "        text-align: right;\n",
       "    }\n",
       "</style>\n",
       "<table border=\"1\" class=\"dataframe\">\n",
       "  <thead>\n",
       "    <tr style=\"text-align: right;\">\n",
       "      <th></th>\n",
       "      <th>text</th>\n",
       "      <th>good_review</th>\n",
       "    </tr>\n",
       "  </thead>\n",
       "  <tbody>\n",
       "    <tr>\n",
       "      <th>0</th>\n",
       "      <td>the best this delicious ice cream world</td>\n",
       "      <td>Good</td>\n",
       "    </tr>\n",
       "    <tr>\n",
       "      <th>1</th>\n",
       "      <td>creamy ton mango flavor this absolute alltime ...</td>\n",
       "      <td>Good</td>\n",
       "    </tr>\n",
       "    <tr>\n",
       "      <th>2</th>\n",
       "      <td>there nothing better classic chocolate ice cre...</td>\n",
       "      <td>Good</td>\n",
       "    </tr>\n",
       "  </tbody>\n",
       "</table>\n",
       "</div>"
      ],
      "text/plain": [
       "                                                text good_review\n",
       "0            the best this delicious ice cream world        Good\n",
       "1  creamy ton mango flavor this absolute alltime ...        Good\n",
       "2  there nothing better classic chocolate ice cre...        Good"
      ]
     },
     "execution_count": 3,
     "metadata": {},
     "output_type": "execute_result"
    }
   ],
   "source": [
    "preprocessed_data.head(3)"
   ]
  },
  {
   "cell_type": "code",
   "execution_count": 4,
   "metadata": {},
   "outputs": [],
   "source": [
    "X = preprocessed_data.copy()\n",
    "X.drop(['text'], axis=1, inplace=True)\n",
    "y = preprocessed_data['good_review']"
   ]
  },
  {
   "cell_type": "code",
   "execution_count": 5,
   "metadata": {},
   "outputs": [],
   "source": [
    "X_train = pd.read_csv('../data/X_train.csv', index_col=0)\n",
    "y_train = pd.read_csv('../data/y_train.csv', index_col=0)['good_review']\n",
    "X_test = pd.read_csv('../data/X_test.csv', index_col=0)\n",
    "y_test = pd.read_csv('../data/y_test.csv', index_col=0)['good_review']"
   ]
  },
  {
   "cell_type": "markdown",
   "metadata": {},
   "source": [
    "## Model Selection"
   ]
  },
  {
   "cell_type": "markdown",
   "metadata": {},
   "source": [
    "Now its time to get down to modelling. I have selected 4 models to test plus one dummy model as a baseline:\n",
    "\n",
    "* Multinomial Naive Bayes\n",
    "* Passive Aggressive Classifier\n",
    "* Logistic Regression\n",
    "* SVM\n",
    "\n",
    "I have selected these four since I know they run relatively quickly and I have experience using then before. Each of these models will be cross validated and tuned using `RandomizedSearchCV` with 10 folds. Whichever model performs the best, will be the one I select."
   ]
  },
  {
   "cell_type": "markdown",
   "metadata": {},
   "source": [
    "### Dummy Classifier"
   ]
  },
  {
   "cell_type": "markdown",
   "metadata": {},
   "source": [
    "Before I even begin modelling, I'll start with a baseline model, `DummyClassifier`. The results of this model will serve a reference point for the performance of all the ML models. "
   ]
  },
  {
   "cell_type": "code",
   "execution_count": 6,
   "metadata": {},
   "outputs": [],
   "source": [
    "dummy = DummyClassifier(strategy='stratified')"
   ]
  },
  {
   "cell_type": "code",
   "execution_count": 7,
   "metadata": {},
   "outputs": [
    {
     "data": {
      "text/plain": [
       "DummyClassifier(strategy='stratified')"
      ]
     },
     "execution_count": 7,
     "metadata": {},
     "output_type": "execute_result"
    }
   ],
   "source": [
    "dummy.fit(X_train, y_train)"
   ]
  },
  {
   "cell_type": "code",
   "execution_count": 8,
   "metadata": {},
   "outputs": [],
   "source": [
    "y_predict_dummy = dummy.predict(X_test)"
   ]
  },
  {
   "cell_type": "code",
   "execution_count": 9,
   "metadata": {},
   "outputs": [
    {
     "name": "stdout",
     "output_type": "stream",
     "text": [
      "              precision    recall  f1-score   support\n",
      "\n",
      "         Bad       0.21      0.22      0.22      1349\n",
      "        Good       0.79      0.78      0.79      5154\n",
      "\n",
      "    accuracy                           0.67      6503\n",
      "   macro avg       0.50      0.50      0.50      6503\n",
      "weighted avg       0.67      0.67      0.67      6503\n",
      "\n"
     ]
    }
   ],
   "source": [
    "dummy_report = classification_report(y_test, y_predict_dummy)\n",
    "print(dummy_report)"
   ]
  },
  {
   "cell_type": "markdown",
   "metadata": {},
   "source": [
    "Performance is just about as I expected... pretty bad. Let's see how the rest of the models perform."
   ]
  },
  {
   "cell_type": "markdown",
   "metadata": {},
   "source": [
    "### Multinomial Naive Bayes"
   ]
  },
  {
   "cell_type": "markdown",
   "metadata": {},
   "source": [
    "First up is Naive Bayes. Naive Bayes can perform quite well for NLP tasks and is very fast. I expect this to perform farily well. I will only tune the alpha parameter."
   ]
  },
  {
   "cell_type": "code",
   "execution_count": 10,
   "metadata": {},
   "outputs": [],
   "source": [
    "start_time = time.time()\n",
    "nb = MultinomialNB()"
   ]
  },
  {
   "cell_type": "code",
   "execution_count": 11,
   "metadata": {},
   "outputs": [],
   "source": [
    "alpha = [i/10 for i in range(0, 11)]\n",
    "param_dist = {\"alpha\": alpha}"
   ]
  },
  {
   "cell_type": "code",
   "execution_count": 12,
   "metadata": {},
   "outputs": [
    {
     "data": {
      "text/plain": [
       "RandomizedSearchCV(cv=10, estimator=MultinomialNB(),\n",
       "                   param_distributions={'alpha': [0.0, 0.1, 0.2, 0.3, 0.4, 0.5,\n",
       "                                                  0.6, 0.7, 0.8, 0.9, 1.0]},\n",
       "                   random_state=1)"
      ]
     },
     "execution_count": 12,
     "metadata": {},
     "output_type": "execute_result"
    }
   ],
   "source": [
    "rand_search = RandomizedSearchCV(estimator=nb, param_distributions=param_dist, cv=10, random_state=1)\n",
    "rand_search.fit(X_train, y_train)"
   ]
  },
  {
   "cell_type": "code",
   "execution_count": 13,
   "metadata": {},
   "outputs": [],
   "source": [
    "best_nb = rand_search.best_estimator_"
   ]
  },
  {
   "cell_type": "code",
   "execution_count": 14,
   "metadata": {},
   "outputs": [
    {
     "name": "stdout",
     "output_type": "stream",
     "text": [
      "MultinomialNB(alpha=0.0)\n"
     ]
    }
   ],
   "source": [
    "print(best_nb)"
   ]
  },
  {
   "cell_type": "code",
   "execution_count": 15,
   "metadata": {},
   "outputs": [],
   "source": [
    "nb = best_nb\n",
    "nb.fit(X_train, y_train)\n",
    "y_predict_nb = nb.predict(X_test)\n",
    "end_time = time.time()"
   ]
  },
  {
   "cell_type": "code",
   "execution_count": 16,
   "metadata": {},
   "outputs": [
    {
     "name": "stdout",
     "output_type": "stream",
     "text": [
      "              precision    recall  f1-score   support\n",
      "\n",
      "         Bad       0.93      0.63      0.75      1349\n",
      "        Good       0.91      0.99      0.95      5154\n",
      "\n",
      "    accuracy                           0.91      6503\n",
      "   macro avg       0.92      0.81      0.85      6503\n",
      "weighted avg       0.91      0.91      0.91      6503\n",
      "\n",
      "Execution time: 0.17520561615626018 min\n"
     ]
    }
   ],
   "source": [
    "nb_report = classification_report(y_test, y_predict_nb)\n",
    "print(nb_report)\n",
    "print(\"Execution time: %s min\" % ((end_time - start_time)/60))"
   ]
  },
  {
   "cell_type": "markdown",
   "metadata": {},
   "source": [
    "This is a pretty good f1. The f1 for the *Bad* class could certainly be better. The recall is also on the lower end. Maybe the next models will do a better job. On the bright side, this took barely any time to complete."
   ]
  },
  {
   "cell_type": "markdown",
   "metadata": {},
   "source": [
    "### Passive Aggressive Classifier"
   ]
  },
  {
   "cell_type": "markdown",
   "metadata": {},
   "source": [
    "The next model is a Passive Aggressive Classifier. I used this model in a [previous project](https://github.com/isabelanyc/Fake-Job-Posting-Prediction) and it performed fairly wel. When I last used it, I mentioned that I actually did not know much about how this model works. I can now say that I have doen my research and can recommend taking a look at paper by [Crammer et al](https://jmlr.csail.mit.edu/papers/volume7/crammer06a/crammer06a.pdf). I will tune the `fit_intercept` and `max_iter` hyperparmeters."
   ]
  },
  {
   "cell_type": "code",
   "execution_count": 17,
   "metadata": {},
   "outputs": [],
   "source": [
    "start_time = time.time()\n",
    "pag = PassiveAggressiveClassifier()"
   ]
  },
  {
   "cell_type": "code",
   "execution_count": 18,
   "metadata": {},
   "outputs": [],
   "source": [
    "fit_intercept = [False, True]\n",
    "max_iter = [i*100 for i in range(1,21)]\n",
    "param_dist = {\"fit_intercept\": fit_intercept,\n",
    "              \"max_iter\": max_iter}"
   ]
  },
  {
   "cell_type": "code",
   "execution_count": 19,
   "metadata": {},
   "outputs": [],
   "source": [
    "rand_search = RandomizedSearchCV(estimator=PassiveAggressiveClassifier(), param_distributions=param_dist, cv=10, random_state=1)"
   ]
  },
  {
   "cell_type": "code",
   "execution_count": 20,
   "metadata": {
    "scrolled": false
   },
   "outputs": [
    {
     "data": {
      "text/plain": [
       "RandomizedSearchCV(cv=10, estimator=PassiveAggressiveClassifier(),\n",
       "                   param_distributions={'fit_intercept': [False, True],\n",
       "                                        'max_iter': [100, 200, 300, 400, 500,\n",
       "                                                     600, 700, 800, 900, 1000,\n",
       "                                                     1100, 1200, 1300, 1400,\n",
       "                                                     1500, 1600, 1700, 1800,\n",
       "                                                     1900, 2000]},\n",
       "                   random_state=1)"
      ]
     },
     "execution_count": 20,
     "metadata": {},
     "output_type": "execute_result"
    }
   ],
   "source": [
    "rand_search.fit(X_train, y_train)"
   ]
  },
  {
   "cell_type": "code",
   "execution_count": 21,
   "metadata": {},
   "outputs": [],
   "source": [
    "best_pag = rand_search.best_estimator_"
   ]
  },
  {
   "cell_type": "code",
   "execution_count": 22,
   "metadata": {},
   "outputs": [
    {
     "name": "stdout",
     "output_type": "stream",
     "text": [
      "PassiveAggressiveClassifier(fit_intercept=False, max_iter=2000)\n"
     ]
    }
   ],
   "source": [
    "print(best_pag)"
   ]
  },
  {
   "cell_type": "code",
   "execution_count": 23,
   "metadata": {},
   "outputs": [],
   "source": [
    "pag = best_pag\n",
    "pag.fit(X_train, y_train)\n",
    "y_predict_pag = pag.predict(X_test)\n",
    "end_time = time.time()"
   ]
  },
  {
   "cell_type": "code",
   "execution_count": 24,
   "metadata": {},
   "outputs": [
    {
     "name": "stdout",
     "output_type": "stream",
     "text": [
      "              precision    recall  f1-score   support\n",
      "\n",
      "         Bad       0.80      0.81      0.80      1349\n",
      "        Good       0.95      0.95      0.95      5154\n",
      "\n",
      "    accuracy                           0.92      6503\n",
      "   macro avg       0.87      0.88      0.88      6503\n",
      "weighted avg       0.92      0.92      0.92      6503\n",
      "\n",
      "Execution time: 1.4526459495226542 min\n"
     ]
    }
   ],
   "source": [
    "pag_report = classification_report(y_test, y_predict_pag)\n",
    "print(pag_report)\n",
    "print(\"Execution time: %s min\" % ((end_time - start_time)/60))"
   ]
  },
  {
   "cell_type": "markdown",
   "metadata": {},
   "source": [
    "This is slightly better than the previous model, though the run time is a bit longer, but still not much of a worry. "
   ]
  },
  {
   "cell_type": "markdown",
   "metadata": {},
   "source": [
    "### Logistic Regression"
   ]
  },
  {
   "cell_type": "markdown",
   "metadata": {},
   "source": [
    "Next up is the trusty logitic regression. The only parameter I will tune is the `l1_ratio`."
   ]
  },
  {
   "cell_type": "code",
   "execution_count": 25,
   "metadata": {},
   "outputs": [],
   "source": [
    "start_time = time.time()\n",
    "lr = LogisticRegression()"
   ]
  },
  {
   "cell_type": "code",
   "execution_count": 26,
   "metadata": {},
   "outputs": [],
   "source": [
    "dual = [False]\n",
    "l1_ratio = [i/10 for i in range(0, 10)]\n",
    "param_dist = {\"dual\": dual,\n",
    "              \"l1_ratio\": l1_ratio}"
   ]
  },
  {
   "cell_type": "code",
   "execution_count": 27,
   "metadata": {},
   "outputs": [],
   "source": [
    "rand_search = RandomizedSearchCV(lr, param_distributions=param_dist, scoring='f1', cv=10, random_state=1)"
   ]
  },
  {
   "cell_type": "code",
   "execution_count": 28,
   "metadata": {},
   "outputs": [
    {
     "data": {
      "text/plain": [
       "RandomizedSearchCV(cv=10, estimator=LogisticRegression(),\n",
       "                   param_distributions={'dual': [False],\n",
       "                                        'l1_ratio': [0.0, 0.1, 0.2, 0.3, 0.4,\n",
       "                                                     0.5, 0.6, 0.7, 0.8, 0.9]},\n",
       "                   random_state=1, scoring='f1')"
      ]
     },
     "execution_count": 28,
     "metadata": {},
     "output_type": "execute_result"
    }
   ],
   "source": [
    "rand_search.fit(X_train, y_train)"
   ]
  },
  {
   "cell_type": "code",
   "execution_count": 29,
   "metadata": {},
   "outputs": [
    {
     "name": "stdout",
     "output_type": "stream",
     "text": [
      "LogisticRegression(l1_ratio=0.0)\n"
     ]
    }
   ],
   "source": [
    "best_lr = rand_search.best_estimator_\n",
    "print(rand_search.best_estimator_)"
   ]
  },
  {
   "cell_type": "code",
   "execution_count": 30,
   "metadata": {},
   "outputs": [],
   "source": [
    "y_predict_lr = best_lr.predict(X_test)\n",
    "end_time = time.time()"
   ]
  },
  {
   "cell_type": "code",
   "execution_count": 31,
   "metadata": {},
   "outputs": [
    {
     "name": "stdout",
     "output_type": "stream",
     "text": [
      "              precision    recall  f1-score   support\n",
      "\n",
      "         Bad       0.90      0.75      0.82      1349\n",
      "        Good       0.94      0.98      0.96      5154\n",
      "\n",
      "    accuracy                           0.93      6503\n",
      "   macro avg       0.92      0.87      0.89      6503\n",
      "weighted avg       0.93      0.93      0.93      6503\n",
      "\n",
      "Execution time: 1.6962408463160197 min\n"
     ]
    }
   ],
   "source": [
    "lr_report = classification_report(y_test, y_predict_lr)\n",
    "print(lr_report)\n",
    "print(\"Execution time: %s min\" % ((end_time - start_time)/60))"
   ]
  },
  {
   "cell_type": "markdown",
   "metadata": {},
   "source": [
    "Leave it to classic logistic regression to be the best performing model so far. This has the best f1 of the three so far, but also has the longest run time -- just something to note."
   ]
  },
  {
   "cell_type": "markdown",
   "metadata": {},
   "source": [
    "### SVM"
   ]
  },
  {
   "cell_type": "markdown",
   "metadata": {},
   "source": [
    "The last model I will try is SVM. I am going to tune a few parameters here: `kernel`, `shrinking` and `decision_function_shape`. I will also set `probability` to be `True` so I can use the `predict_proba` method if I want to."
   ]
  },
  {
   "cell_type": "code",
   "execution_count": 32,
   "metadata": {},
   "outputs": [],
   "source": [
    "start_time = time.time()\n",
    "svm = SVC(probability=True)"
   ]
  },
  {
   "cell_type": "code",
   "execution_count": 33,
   "metadata": {},
   "outputs": [],
   "source": [
    "kernel = ['linear', 'poly', 'rbf', 'sigmoid', 'precomputed']\n",
    "shrinking = [True, False]\n",
    "decision_function_shape = ['ovo', 'ovr']\n",
    "param_dist = {\"kernel\": kernel,\n",
    "              \"shrinking\": shrinking,\n",
    "              \"decision_function_shape\": decision_function_shape}\n",
    "param_dist = {}"
   ]
  },
  {
   "cell_type": "code",
   "execution_count": 34,
   "metadata": {},
   "outputs": [],
   "source": [
    "rand_search = RandomizedSearchCV(svm, param_distributions=param_dist, scoring='f1', n_iter=5, cv=10, random_state=1)"
   ]
  },
  {
   "cell_type": "code",
   "execution_count": 35,
   "metadata": {},
   "outputs": [
    {
     "data": {
      "text/plain": [
       "RandomizedSearchCV(cv=10, estimator=SVC(probability=True), n_iter=5,\n",
       "                   param_distributions={}, random_state=1, scoring='f1')"
      ]
     },
     "execution_count": 35,
     "metadata": {},
     "output_type": "execute_result"
    }
   ],
   "source": [
    "rand_search.fit(X_train, y_train)"
   ]
  },
  {
   "cell_type": "code",
   "execution_count": 36,
   "metadata": {},
   "outputs": [
    {
     "name": "stdout",
     "output_type": "stream",
     "text": [
      "SVC(probability=True)\n"
     ]
    }
   ],
   "source": [
    "best_svm = rand_search.best_estimator_\n",
    "print(rand_search.best_estimator_)"
   ]
  },
  {
   "cell_type": "code",
   "execution_count": 37,
   "metadata": {},
   "outputs": [],
   "source": [
    "y_predict_svm = best_svm.predict(X_test)\n",
    "end_time = time.time()"
   ]
  },
  {
   "cell_type": "code",
   "execution_count": 38,
   "metadata": {},
   "outputs": [
    {
     "name": "stdout",
     "output_type": "stream",
     "text": [
      "              precision    recall  f1-score   support\n",
      "\n",
      "         Bad       0.90      0.78      0.84      1349\n",
      "        Good       0.94      0.98      0.96      5154\n",
      "\n",
      "    accuracy                           0.94      6503\n",
      "   macro avg       0.92      0.88      0.90      6503\n",
      "weighted avg       0.94      0.94      0.94      6503\n",
      "\n",
      "Execution time: 52.36092729965846 min\n"
     ]
    }
   ],
   "source": [
    "svm_report = classification_report(y_test, y_predict_svm)\n",
    "print(svm_report)\n",
    "print(\"Execution time: %s min\" % ((end_time - start_time)/60))"
   ]
  },
  {
   "cell_type": "markdown",
   "metadata": {},
   "source": [
    "The performance of the SVM model is pretty good, but it did take almost an hour to run. Also, it performed pretty similarly to the logistic regression model. I don't see much reason to choose this one over logistic regression."
   ]
  },
  {
   "cell_type": "markdown",
   "metadata": {},
   "source": [
    "## Summary"
   ]
  },
  {
   "cell_type": "markdown",
   "metadata": {},
   "source": [
    "All of the models performed pretty well. Logistic Regression and SVM performed similarly, but Logistic Regression ran much faster. Naive Bayes performed the worst but had the fastest run time. The Passive Aggressive Classifer performed somewhere between the two in terms of speed and performance.\n",
    "\n",
    "So if I have to choose one, I am going to go with Logisitic Regression. It is both quick and accurate."
   ]
  },
  {
   "cell_type": "code",
   "execution_count": 39,
   "metadata": {},
   "outputs": [
    {
     "data": {
      "image/png": "[encoded data removed]",
      "text/plain": [
       "<Figure size 720x360 with 1 Axes>"
      ]
     },
     "metadata": {
      "needs_background": "light"
     },
     "output_type": "display_data"
    }
   ],
   "source": [
    "y_scores_lr = best_lr.predict_proba(X_test)[:,1]\n",
    "false_positive_rate, true_positive_rate, thresholds = roc_curve(y_test, y_scores_lr, pos_label=\"Good\")\n",
    "plt.figure(figsize=(10, 5))\n",
    "plt.plot(false_positive_rate, true_positive_rate)\n",
    "plt.plot([0, 1], [0, 1], 'r')\n",
    "plt.xlabel('False Positive Rate')\n",
    "plt.ylabel('True Positive Rate')\n",
    "plt.title('ROC')\n",
    "plt.show()"
   ]
  }
 ],
 "metadata": {
  "kernelspec": {
   "display_name": "Python 3",
   "language": "python",
   "name": "python3"
  },
  "language_info": {
   "codemirror_mode": {
    "name": "ipython",
    "version": 3
   },
   "file_extension": ".py",
   "mimetype": "text/x-python",
   "name": "python",
   "nbconvert_exporter": "python",
   "pygments_lexer": "ipython3",
   "version": "3.8.8"
  }
 },
 "nbformat": 4,
 "nbformat_minor": 4
}
