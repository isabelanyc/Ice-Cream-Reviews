{
 "cells": [
  {
   "cell_type": "markdown",
   "metadata": {},
   "source": [
    "# Preprocessing"
   ]
  },
  {
   "cell_type": "code",
   "execution_count": 1,
   "metadata": {},
   "outputs": [],
   "source": [
    "import pandas as pd\n",
    "from library.sb_utils import save_file\n",
    "from sklearn.feature_extraction.text import TfidfVectorizer\n",
    "from sklearn.feature_extraction.text import CountVectorizer\n",
    "from sklearn.model_selection import train_test_split"
   ]
  },
  {
   "cell_type": "code",
   "execution_count": 2,
   "metadata": {},
   "outputs": [],
   "source": [
    "data = pd.read_csv('../data/ice_cream_data.csv', index_col=0)"
   ]
  },
  {
   "cell_type": "code",
   "execution_count": 3,
   "metadata": {},
   "outputs": [
    {
     "data": {
      "text/html": [
       "<div>\n",
       "<style scoped>\n",
       "    .dataframe tbody tr th:only-of-type {\n",
       "        vertical-align: middle;\n",
       "    }\n",
       "\n",
       "    .dataframe tbody tr th {\n",
       "        vertical-align: top;\n",
       "    }\n",
       "\n",
       "    .dataframe thead th {\n",
       "        text-align: right;\n",
       "    }\n",
       "</style>\n",
       "<table border=\"1\" class=\"dataframe\">\n",
       "  <thead>\n",
       "    <tr style=\"text-align: right;\">\n",
       "      <th></th>\n",
       "      <th>brand</th>\n",
       "      <th>key</th>\n",
       "      <th>author</th>\n",
       "      <th>stars</th>\n",
       "      <th>text</th>\n",
       "      <th>name</th>\n",
       "      <th>description</th>\n",
       "      <th>rating</th>\n",
       "      <th>rating_count</th>\n",
       "      <th>stop_text</th>\n",
       "      <th>good_review</th>\n",
       "    </tr>\n",
       "  </thead>\n",
       "  <tbody>\n",
       "    <tr>\n",
       "      <th>0</th>\n",
       "      <td>bj</td>\n",
       "      <td>0_bj</td>\n",
       "      <td>Ilovebennjerry</td>\n",
       "      <td>3</td>\n",
       "      <td>Not enough brownies!-Super good, don't get me ...</td>\n",
       "      <td>Salted Caramel Core</td>\n",
       "      <td>Find your way to the ultimate ice cream experi...</td>\n",
       "      <td>3.7</td>\n",
       "      <td>208</td>\n",
       "      <td>not enough brownies!-super good, get wrong. bu...</td>\n",
       "      <td>Bad</td>\n",
       "    </tr>\n",
       "    <tr>\n",
       "      <th>1</th>\n",
       "      <td>bj</td>\n",
       "      <td>0_bj</td>\n",
       "      <td>Sweettooth909</td>\n",
       "      <td>5</td>\n",
       "      <td>I’m OBSESSED with this pint!-I decided to try ...</td>\n",
       "      <td>Salted Caramel Core</td>\n",
       "      <td>Find your way to the ultimate ice cream experi...</td>\n",
       "      <td>3.7</td>\n",
       "      <td>208</td>\n",
       "      <td>i’m obsessed pint!-i decided try although i’m ...</td>\n",
       "      <td>Good</td>\n",
       "    </tr>\n",
       "    <tr>\n",
       "      <th>2</th>\n",
       "      <td>bj</td>\n",
       "      <td>0_bj</td>\n",
       "      <td>LaTanga71</td>\n",
       "      <td>3</td>\n",
       "      <td>My favorite...More Caramel Please-My caramel c...</td>\n",
       "      <td>Salted Caramel Core</td>\n",
       "      <td>Find your way to the ultimate ice cream experi...</td>\n",
       "      <td>3.7</td>\n",
       "      <td>208</td>\n",
       "      <td>my favorite...more caramel please-my caramel c...</td>\n",
       "      <td>Bad</td>\n",
       "    </tr>\n",
       "  </tbody>\n",
       "</table>\n",
       "</div>"
      ],
      "text/plain": [
       "  brand   key          author  stars  \\\n",
       "0    bj  0_bj  Ilovebennjerry      3   \n",
       "1    bj  0_bj   Sweettooth909      5   \n",
       "2    bj  0_bj       LaTanga71      3   \n",
       "\n",
       "                                                text                 name  \\\n",
       "0  Not enough brownies!-Super good, don't get me ...  Salted Caramel Core   \n",
       "1  I’m OBSESSED with this pint!-I decided to try ...  Salted Caramel Core   \n",
       "2  My favorite...More Caramel Please-My caramel c...  Salted Caramel Core   \n",
       "\n",
       "                                         description  rating  rating_count  \\\n",
       "0  Find your way to the ultimate ice cream experi...     3.7           208   \n",
       "1  Find your way to the ultimate ice cream experi...     3.7           208   \n",
       "2  Find your way to the ultimate ice cream experi...     3.7           208   \n",
       "\n",
       "                                           stop_text good_review  \n",
       "0  not enough brownies!-super good, get wrong. bu...         Bad  \n",
       "1  i’m obsessed pint!-i decided try although i’m ...        Good  \n",
       "2  my favorite...more caramel please-my caramel c...         Bad  "
      ]
     },
     "execution_count": 3,
     "metadata": {},
     "output_type": "execute_result"
    }
   ],
   "source": [
    "data.head(3)"
   ]
  },
  {
   "cell_type": "markdown",
   "metadata": {},
   "source": [
    "For modelling purposes, I am only interested in `stop_text` and `good_reviews`. As a refresher `stop_text` is same as the `text` column but with all the stop words and special characters removed."
   ]
  },
  {
   "cell_type": "code",
   "execution_count": 4,
   "metadata": {},
   "outputs": [
    {
     "data": {
      "text/html": [
       "<div>\n",
       "<style scoped>\n",
       "    .dataframe tbody tr th:only-of-type {\n",
       "        vertical-align: middle;\n",
       "    }\n",
       "\n",
       "    .dataframe tbody tr th {\n",
       "        vertical-align: top;\n",
       "    }\n",
       "\n",
       "    .dataframe thead th {\n",
       "        text-align: right;\n",
       "    }\n",
       "</style>\n",
       "<table border=\"1\" class=\"dataframe\">\n",
       "  <thead>\n",
       "    <tr style=\"text-align: right;\">\n",
       "      <th></th>\n",
       "      <th>stop_text</th>\n",
       "      <th>good_review</th>\n",
       "    </tr>\n",
       "  </thead>\n",
       "  <tbody>\n",
       "    <tr>\n",
       "      <th>0</th>\n",
       "      <td>not enough brownies!-super good, get wrong. bu...</td>\n",
       "      <td>Bad</td>\n",
       "    </tr>\n",
       "    <tr>\n",
       "      <th>1</th>\n",
       "      <td>i’m obsessed pint!-i decided try although i’m ...</td>\n",
       "      <td>Good</td>\n",
       "    </tr>\n",
       "    <tr>\n",
       "      <th>2</th>\n",
       "      <td>my favorite...more caramel please-my caramel c...</td>\n",
       "      <td>Bad</td>\n",
       "    </tr>\n",
       "  </tbody>\n",
       "</table>\n",
       "</div>"
      ],
      "text/plain": [
       "                                           stop_text good_review\n",
       "0  not enough brownies!-super good, get wrong. bu...         Bad\n",
       "1  i’m obsessed pint!-i decided try although i’m ...        Good\n",
       "2  my favorite...more caramel please-my caramel c...         Bad"
      ]
     },
     "execution_count": 4,
     "metadata": {},
     "output_type": "execute_result"
    }
   ],
   "source": [
    "preprocessed_data = data[['stop_text', 'good_review']]\n",
    "preprocessed_data.head(3)"
   ]
  },
  {
   "cell_type": "markdown",
   "metadata": {},
   "source": [
    "## Randomize the Data"
   ]
  },
  {
   "cell_type": "markdown",
   "metadata": {},
   "source": [
    "Right now, the data is ordered by brand. This ordering will impact how I do the `train_test_split`, so I will mix up the data."
   ]
  },
  {
   "cell_type": "code",
   "execution_count": 5,
   "metadata": {},
   "outputs": [],
   "source": [
    "preprocessed_data = preprocessed_data.sample(frac=1)\n",
    "preprocessed_data.reset_index(inplace=True)\n",
    "preprocessed_data.drop(['index'], axis=1, inplace=True)"
   ]
  },
  {
   "cell_type": "code",
   "execution_count": 6,
   "metadata": {},
   "outputs": [
    {
     "data": {
      "text/html": [
       "<div>\n",
       "<style scoped>\n",
       "    .dataframe tbody tr th:only-of-type {\n",
       "        vertical-align: middle;\n",
       "    }\n",
       "\n",
       "    .dataframe tbody tr th {\n",
       "        vertical-align: top;\n",
       "    }\n",
       "\n",
       "    .dataframe thead th {\n",
       "        text-align: right;\n",
       "    }\n",
       "</style>\n",
       "<table border=\"1\" class=\"dataframe\">\n",
       "  <thead>\n",
       "    <tr style=\"text-align: right;\">\n",
       "      <th></th>\n",
       "      <th>stop_text</th>\n",
       "      <th>good_review</th>\n",
       "    </tr>\n",
       "  </thead>\n",
       "  <tbody>\n",
       "    <tr>\n",
       "      <th>0</th>\n",
       "      <td>my fav-my fav ice cream ever. i could eat time...</td>\n",
       "      <td>Good</td>\n",
       "    </tr>\n",
       "    <tr>\n",
       "      <th>1</th>\n",
       "      <td>so good-they real chunk cookie dough chocolate...</td>\n",
       "      <td>Good</td>\n",
       "    </tr>\n",
       "    <tr>\n",
       "      <th>2</th>\n",
       "      <td>nan-i personally like vanilla, addition ice cr...</td>\n",
       "      <td>Good</td>\n",
       "    </tr>\n",
       "    <tr>\n",
       "      <th>3</th>\n",
       "      <td>yum yum yum-this ice cream delicious! big yumm...</td>\n",
       "      <td>Good</td>\n",
       "    </tr>\n",
       "    <tr>\n",
       "      <th>4</th>\n",
       "      <td>flavor awesome-i love it, i brought rose' &amp; cr...</td>\n",
       "      <td>Good</td>\n",
       "    </tr>\n",
       "  </tbody>\n",
       "</table>\n",
       "</div>"
      ],
      "text/plain": [
       "                                           stop_text good_review\n",
       "0  my fav-my fav ice cream ever. i could eat time...        Good\n",
       "1  so good-they real chunk cookie dough chocolate...        Good\n",
       "2  nan-i personally like vanilla, addition ice cr...        Good\n",
       "3  yum yum yum-this ice cream delicious! big yumm...        Good\n",
       "4  flavor awesome-i love it, i brought rose' & cr...        Good"
      ]
     },
     "execution_count": 6,
     "metadata": {},
     "output_type": "execute_result"
    }
   ],
   "source": [
    "preprocessed_data.head(5)"
   ]
  },
  {
   "cell_type": "markdown",
   "metadata": {},
   "source": [
    "## TF-IDF Vectorizer"
   ]
  },
  {
   "cell_type": "markdown",
   "metadata": {},
   "source": [
    "I'll use a TF-IDF vectorizer to convert the textual data into numerical features. For now, I'll restritct the number of features to 1000."
   ]
  },
  {
   "cell_type": "code",
   "execution_count": 7,
   "metadata": {},
   "outputs": [],
   "source": [
    "tfidf = TfidfVectorizer()"
   ]
  },
  {
   "cell_type": "code",
   "execution_count": 8,
   "metadata": {},
   "outputs": [],
   "source": [
    "tfidf = TfidfVectorizer(max_features=1000)"
   ]
  },
  {
   "cell_type": "code",
   "execution_count": 9,
   "metadata": {},
   "outputs": [],
   "source": [
    "X = tfidf.fit_transform(preprocessed_data['stop_text']).toarray()\n",
    "y = preprocessed_data['good_review']"
   ]
  },
  {
   "cell_type": "markdown",
   "metadata": {},
   "source": [
    "## Split Into Test and Training Sets"
   ]
  },
  {
   "cell_type": "markdown",
   "metadata": {},
   "source": [
    "I'll use a `train_test_split()` from `sklearn` to split the training and testing data 70-30. "
   ]
  },
  {
   "cell_type": "code",
   "execution_count": 10,
   "metadata": {},
   "outputs": [],
   "source": [
    "X = pd.DataFrame(X, columns=tfidf.get_feature_names())"
   ]
  },
  {
   "cell_type": "code",
   "execution_count": 11,
   "metadata": {},
   "outputs": [],
   "source": [
    "X_train, X_test, y_train, y_test = train_test_split(X, y, test_size=0.3, random_state=1)"
   ]
  },
  {
   "cell_type": "code",
   "execution_count": 12,
   "metadata": {},
   "outputs": [],
   "source": [
    "tfidf_df = pd.DataFrame(X_train, columns=tfidf.get_feature_names())"
   ]
  },
  {
   "cell_type": "markdown",
   "metadata": {},
   "source": [
    "## Save Data"
   ]
  },
  {
   "cell_type": "markdown",
   "metadata": {},
   "source": [
    "Now, I'l' just save the training and testing data so I can use it for modelling."
   ]
  },
  {
   "cell_type": "code",
   "execution_count": 13,
   "metadata": {},
   "outputs": [
    {
     "name": "stdout",
     "output_type": "stream",
     "text": [
      "A file already exists with this name.\n",
      "\n",
      "Do you want to overwrite? (Y/N)Y\n",
      "Writing file.  \"../data/preprocessed_data.csv\"\n"
     ]
    }
   ],
   "source": [
    "# save the data to a new csv file\n",
    "datapath = '../data'\n",
    "save_file(preprocessed_data, 'preprocessed_data.csv', datapath)"
   ]
  },
  {
   "cell_type": "code",
   "execution_count": 14,
   "metadata": {},
   "outputs": [
    {
     "name": "stdout",
     "output_type": "stream",
     "text": [
      "A file already exists with this name.\n",
      "\n",
      "Do you want to overwrite? (Y/N)Y\n",
      "Writing file.  \"../data/X_test.csv\"\n"
     ]
    }
   ],
   "source": [
    "save_file(X_test, 'X_test.csv', datapath)"
   ]
  },
  {
   "cell_type": "code",
   "execution_count": 15,
   "metadata": {},
   "outputs": [
    {
     "name": "stdout",
     "output_type": "stream",
     "text": [
      "A file already exists with this name.\n",
      "\n",
      "Do you want to overwrite? (Y/N)Y\n",
      "Writing file.  \"../data/X_train.csv\"\n"
     ]
    }
   ],
   "source": [
    "save_file(X_train, 'X_train.csv', datapath)"
   ]
  },
  {
   "cell_type": "code",
   "execution_count": 16,
   "metadata": {},
   "outputs": [
    {
     "name": "stdout",
     "output_type": "stream",
     "text": [
      "A file already exists with this name.\n",
      "\n",
      "Do you want to overwrite? (Y/N)Y\n",
      "Writing file.  \"../data/y_train.csv\"\n"
     ]
    }
   ],
   "source": [
    "save_file(y_train, 'y_train.csv', datapath)"
   ]
  },
  {
   "cell_type": "code",
   "execution_count": 17,
   "metadata": {},
   "outputs": [
    {
     "name": "stdout",
     "output_type": "stream",
     "text": [
      "A file already exists with this name.\n",
      "\n",
      "Do you want to overwrite? (Y/N)Y\n",
      "Writing file.  \"../data/y_test.csv\"\n"
     ]
    }
   ],
   "source": [
    "save_file(y_test, 'y_test.csv', datapath)"
   ]
  }
 ],
 "metadata": {
  "kernelspec": {
   "display_name": "Python 3",
   "language": "python",
   "name": "python3"
  },
  "language_info": {
   "codemirror_mode": {
    "name": "ipython",
    "version": 3
   },
   "file_extension": ".py",
   "mimetype": "text/x-python",
   "name": "python",
   "nbconvert_exporter": "python",
   "pygments_lexer": "ipython3",
   "version": "3.8.8"
  }
 },
 "nbformat": 4,
 "nbformat_minor": 4
}
