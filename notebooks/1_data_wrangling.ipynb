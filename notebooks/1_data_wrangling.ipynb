{
 "cells": [
  {
   "cell_type": "markdown",
   "metadata": {},
   "source": [
    "# Data Wrangling"
   ]
  },
  {
   "cell_type": "markdown",
   "metadata": {},
   "source": [
    "Step one is load up all the libraries I'll need for wrangling."
   ]
  },
  {
   "cell_type": "code",
   "execution_count": 1,
   "metadata": {},
   "outputs": [],
   "source": [
    "import pandas as pd\n",
    "import numpy as np\n",
    "import warnings\n",
    "import re\n",
    "from nltk.tokenize import WhitespaceTokenizer\n",
    "from nltk.stem.wordnet import WordNetLemmatizer\n",
    "from nltk.corpus import stopwords\n",
    "stop = stopwords.words('english')\n",
    "from library.sb_utils import save_file\n",
    "warnings.filterwarnings(\"ignore\")"
   ]
  },
  {
   "cell_type": "markdown",
   "metadata": {},
   "source": [
    "Next, I'll load the data. Right now, the data is split into reviews and products, and I need to consolidate them into a single dataframe."
   ]
  },
  {
   "cell_type": "code",
   "execution_count": 2,
   "metadata": {},
   "outputs": [],
   "source": [
    "reviews = pd.read_csv('../data/combined/reviews.csv')\n",
    "products = pd.read_csv('../data/combined/products.csv')"
   ]
  },
  {
   "cell_type": "markdown",
   "metadata": {},
   "source": [
    "## Creating A Single DataFrame"
   ]
  },
  {
   "cell_type": "markdown",
   "metadata": {},
   "source": [
    "So there are two different dataframes to work with. They are `reviews` and `products`. Unsurprisingly, these both correspond to the individual reviews and the details of each flavor. I'll start by looking at the first few rows of each dataframe."
   ]
  },
  {
   "cell_type": "code",
   "execution_count": 3,
   "metadata": {
    "scrolled": true
   },
   "outputs": [
    {
     "data": {
      "text/html": [
       "<div>\n",
       "<style scoped>\n",
       "    .dataframe tbody tr th:only-of-type {\n",
       "        vertical-align: middle;\n",
       "    }\n",
       "\n",
       "    .dataframe tbody tr th {\n",
       "        vertical-align: top;\n",
       "    }\n",
       "\n",
       "    .dataframe thead th {\n",
       "        text-align: right;\n",
       "    }\n",
       "</style>\n",
       "<table border=\"1\" class=\"dataframe\">\n",
       "  <thead>\n",
       "    <tr style=\"text-align: right;\">\n",
       "      <th></th>\n",
       "      <th>brand</th>\n",
       "      <th>key</th>\n",
       "      <th>author</th>\n",
       "      <th>date</th>\n",
       "      <th>stars</th>\n",
       "      <th>title</th>\n",
       "      <th>helpful_yes</th>\n",
       "      <th>helpful_no</th>\n",
       "      <th>text</th>\n",
       "      <th>taste</th>\n",
       "      <th>ingredients</th>\n",
       "      <th>texture</th>\n",
       "      <th>likes</th>\n",
       "    </tr>\n",
       "  </thead>\n",
       "  <tbody>\n",
       "    <tr>\n",
       "      <th>0</th>\n",
       "      <td>bj</td>\n",
       "      <td>0_bj</td>\n",
       "      <td>Ilovebennjerry</td>\n",
       "      <td>2017-04-15</td>\n",
       "      <td>3</td>\n",
       "      <td>Not enough brownies!</td>\n",
       "      <td>10.0</td>\n",
       "      <td>3.0</td>\n",
       "      <td>Super good, don't get me wrong. But I came for...</td>\n",
       "      <td>NaN</td>\n",
       "      <td>NaN</td>\n",
       "      <td>NaN</td>\n",
       "      <td>NaN</td>\n",
       "    </tr>\n",
       "    <tr>\n",
       "      <th>1</th>\n",
       "      <td>bj</td>\n",
       "      <td>0_bj</td>\n",
       "      <td>Sweettooth909</td>\n",
       "      <td>2020-01-05</td>\n",
       "      <td>5</td>\n",
       "      <td>I’m OBSESSED with this pint!</td>\n",
       "      <td>3.0</td>\n",
       "      <td>0.0</td>\n",
       "      <td>I decided to try it out although I’m not a hug...</td>\n",
       "      <td>NaN</td>\n",
       "      <td>NaN</td>\n",
       "      <td>NaN</td>\n",
       "      <td>NaN</td>\n",
       "    </tr>\n",
       "    <tr>\n",
       "      <th>2</th>\n",
       "      <td>bj</td>\n",
       "      <td>0_bj</td>\n",
       "      <td>LaTanga71</td>\n",
       "      <td>2018-04-26</td>\n",
       "      <td>3</td>\n",
       "      <td>My favorite...More Caramel Please</td>\n",
       "      <td>5.0</td>\n",
       "      <td>2.0</td>\n",
       "      <td>My caramel core begins to disappear about half...</td>\n",
       "      <td>NaN</td>\n",
       "      <td>NaN</td>\n",
       "      <td>NaN</td>\n",
       "      <td>NaN</td>\n",
       "    </tr>\n",
       "  </tbody>\n",
       "</table>\n",
       "</div>"
      ],
      "text/plain": [
       "  brand   key          author        date  stars  \\\n",
       "0    bj  0_bj  Ilovebennjerry  2017-04-15      3   \n",
       "1    bj  0_bj   Sweettooth909  2020-01-05      5   \n",
       "2    bj  0_bj       LaTanga71  2018-04-26      3   \n",
       "\n",
       "                               title  helpful_yes  helpful_no  \\\n",
       "0               Not enough brownies!         10.0         3.0   \n",
       "1       I’m OBSESSED with this pint!          3.0         0.0   \n",
       "2  My favorite...More Caramel Please          5.0         2.0   \n",
       "\n",
       "                                                text  taste  ingredients  \\\n",
       "0  Super good, don't get me wrong. But I came for...    NaN          NaN   \n",
       "1  I decided to try it out although I’m not a hug...    NaN          NaN   \n",
       "2  My caramel core begins to disappear about half...    NaN          NaN   \n",
       "\n",
       "   texture likes  \n",
       "0      NaN   NaN  \n",
       "1      NaN   NaN  \n",
       "2      NaN   NaN  "
      ]
     },
     "execution_count": 3,
     "metadata": {},
     "output_type": "execute_result"
    }
   ],
   "source": [
    "reviews.head(3)"
   ]
  },
  {
   "cell_type": "code",
   "execution_count": 29,
   "metadata": {},
   "outputs": [
    {
     "data": {
      "text/plain": [
       "\"| brand   | key   | author         | date       |   stars | title                             |   helpful_yes |   helpful_no | text                                                                                                                                                                                                                                                                                                                                                                                                                                                                                                                                                                                                                                                                                                                                        |   taste |   ingredients |   texture |   likes |\\n|:--------|:------|:---------------|:-----------|--------:|:----------------------------------|--------------:|-------------:|:--------------------------------------------------------------------------------------------------------------------------------------------------------------------------------------------------------------------------------------------------------------------------------------------------------------------------------------------------------------------------------------------------------------------------------------------------------------------------------------------------------------------------------------------------------------------------------------------------------------------------------------------------------------------------------------------------------------------------------------------|--------:|--------------:|----------:|--------:|\\n| bj      | 0_bj  | Ilovebennjerry | 2017-04-15 |       3 | Not enough brownies!              |            10 |            3 | Super good, don't get me wrong. But I came for the caramel and brownies, not the sweet cream. The packaging made it seem like brownies were packed and bountiful *crying frowny emoji* I'd say the taste of this was amazing, but the ratio of brownie to sweet cream was disappointing. Liked it regardless but probably won't buy again simply because it didn't live up to its promising package. I'll find another one that has a better ratio and wayyy more yummy chewy brownies.                                                                                                                                                                                                                                                     |     nan |           nan |       nan |     nan |\\n|         |       |                |            |         |                                   |               |              | Overall, good flavor, texture, idea, and brownies. Not so great caramel/sweet cream/ brownie RATIO. Just add more brownies. Please.                                                                                                                                                                                                                                                                                                                                                                                                                                                                                                                                                                                                         |         |               |           |         |\\n| bj      | 0_bj  | Sweettooth909  | 2020-01-05 |       5 | I’m OBSESSED with this pint!      |             3 |            0 | I decided to try it out although I’m not a huge caramel fan, and the first buy was ok, didn’t like the caramel too much and for some reason that specific pint barely had any brownies! Like there were some on top but from the middle to the bottom? Zilch. Nada. Nothing! It was disappointing. But for some reason, I bought it again and I really do believe it was just that point bcuz the second one was glorious!! I had a big brownie chunk in EVERY bite. Plus the caramel didn’t bother me as much and I took a liking to it. Conclusion: I’m on my fifth pint, of the week and I’m going back to get my daily pint cus I’m kinda sick and need some happiness.                                                                 |     nan |           nan |       nan |     nan |\\n| bj      | 0_bj  | LaTanga71      | 2018-04-26 |       3 | My favorite...More Caramel Please |             5 |            2 | My caramel core begins to disappear about half way through. I only buy this for the caramel core. The first time I purchased this I was not even aware that there were blonde bits in there. You had me a salted caramel core, well this is the fourth pint that I have purchased and the caramel is plentiful at the top then it begins to get sparse about half way down at 3/4s of the way down its gone. It works out in my husbands favor because he doesn't care for the caramel so he gets to finish my pint while having a full pint of his choice. Please please please, its called salted caramel core for a reason. Let the caramel flow through the core. P.S. You could put a little extra in there, I totally would not mind. |     nan |           nan |       nan |     nan |\""
      ]
     },
     "execution_count": 29,
     "metadata": {},
     "output_type": "execute_result"
    }
   ],
   "source": [
    "reviews.head(3).to_markdown(index=False)"
   ]
  },
  {
   "cell_type": "code",
   "execution_count": 5,
   "metadata": {},
   "outputs": [
    {
     "data": {
      "text/html": [
       "<div>\n",
       "<style scoped>\n",
       "    .dataframe tbody tr th:only-of-type {\n",
       "        vertical-align: middle;\n",
       "    }\n",
       "\n",
       "    .dataframe tbody tr th {\n",
       "        vertical-align: top;\n",
       "    }\n",
       "\n",
       "    .dataframe thead th {\n",
       "        text-align: right;\n",
       "    }\n",
       "</style>\n",
       "<table border=\"1\" class=\"dataframe\">\n",
       "  <thead>\n",
       "    <tr style=\"text-align: right;\">\n",
       "      <th></th>\n",
       "      <th>brand</th>\n",
       "      <th>key</th>\n",
       "      <th>name</th>\n",
       "      <th>subhead</th>\n",
       "      <th>description</th>\n",
       "      <th>rating</th>\n",
       "      <th>rating_count</th>\n",
       "      <th>ingredients</th>\n",
       "    </tr>\n",
       "  </thead>\n",
       "  <tbody>\n",
       "    <tr>\n",
       "      <th>0</th>\n",
       "      <td>bj</td>\n",
       "      <td>0_bj</td>\n",
       "      <td>Salted Caramel Core</td>\n",
       "      <td>Sweet Cream Ice Cream with Blonde Brownies &amp; a...</td>\n",
       "      <td>Find your way to the ultimate ice cream experi...</td>\n",
       "      <td>3.7</td>\n",
       "      <td>208</td>\n",
       "      <td>CREAM, SKIM MILK, LIQUID SUGAR (SUGAR, WATER),...</td>\n",
       "    </tr>\n",
       "    <tr>\n",
       "      <th>1</th>\n",
       "      <td>bj</td>\n",
       "      <td>1_bj</td>\n",
       "      <td>Netflix &amp; Chilll'd™</td>\n",
       "      <td>Peanut Butter Ice Cream with Sweet &amp; Salty Pre...</td>\n",
       "      <td>There’s something for everyone to watch on Net...</td>\n",
       "      <td>4.0</td>\n",
       "      <td>127</td>\n",
       "      <td>CREAM, SKIM MILK, LIQUID SUGAR (SUGAR, WATER),...</td>\n",
       "    </tr>\n",
       "    <tr>\n",
       "      <th>2</th>\n",
       "      <td>bj</td>\n",
       "      <td>2_bj</td>\n",
       "      <td>Chip Happens</td>\n",
       "      <td>A Cold Mess of Chocolate Ice Cream with Fudge ...</td>\n",
       "      <td>Sometimes “chip” happens and everything’s a me...</td>\n",
       "      <td>4.7</td>\n",
       "      <td>130</td>\n",
       "      <td>CREAM, LIQUID SUGAR (SUGAR, WATER), SKIM MILK,...</td>\n",
       "    </tr>\n",
       "  </tbody>\n",
       "</table>\n",
       "</div>"
      ],
      "text/plain": [
       "  brand   key                 name  \\\n",
       "0    bj  0_bj  Salted Caramel Core   \n",
       "1    bj  1_bj  Netflix & Chilll'd™   \n",
       "2    bj  2_bj         Chip Happens   \n",
       "\n",
       "                                             subhead  \\\n",
       "0  Sweet Cream Ice Cream with Blonde Brownies & a...   \n",
       "1  Peanut Butter Ice Cream with Sweet & Salty Pre...   \n",
       "2  A Cold Mess of Chocolate Ice Cream with Fudge ...   \n",
       "\n",
       "                                         description  rating  rating_count  \\\n",
       "0  Find your way to the ultimate ice cream experi...     3.7           208   \n",
       "1  There’s something for everyone to watch on Net...     4.0           127   \n",
       "2  Sometimes “chip” happens and everything’s a me...     4.7           130   \n",
       "\n",
       "                                         ingredients  \n",
       "0  CREAM, SKIM MILK, LIQUID SUGAR (SUGAR, WATER),...  \n",
       "1  CREAM, SKIM MILK, LIQUID SUGAR (SUGAR, WATER),...  \n",
       "2  CREAM, LIQUID SUGAR (SUGAR, WATER), SKIM MILK,...  "
      ]
     },
     "execution_count": 5,
     "metadata": {},
     "output_type": "execute_result"
    }
   ],
   "source": [
    "products.head(3)"
   ]
  },
  {
   "cell_type": "markdown",
   "metadata": {},
   "source": [
    "So I can already see some overlapping information as well as informationthat is different in each dataframe. I also see that there are some columns that don't interest me for this project. So, to better prepare the data, I need to get all the columns I want from both dataframes and put it into a single dataframe. Before I create any new dataframes, I need to make sure that the the keys align."
   ]
  },
  {
   "cell_type": "code",
   "execution_count": 6,
   "metadata": {},
   "outputs": [
    {
     "data": {
      "text/plain": [
       "True"
      ]
     },
     "execution_count": 6,
     "metadata": {},
     "output_type": "execute_result"
    }
   ],
   "source": [
    "set(products['key']) == set(reviews['key'])"
   ]
  },
  {
   "cell_type": "markdown",
   "metadata": {},
   "source": [
    "Perfect! Now I can perform the merge. I'll store all the columns that I want into a dataframe called `data`."
   ]
  },
  {
   "cell_type": "code",
   "execution_count": 7,
   "metadata": {},
   "outputs": [],
   "source": [
    "data = pd.DataFrame()\n",
    "text = []\n",
    "title = []\n",
    "brand = []\n",
    "author = []\n",
    "names = []\n",
    "stars = []\n",
    "ratings = []\n",
    "rating_counts = []"
   ]
  },
  {
   "cell_type": "code",
   "execution_count": 8,
   "metadata": {
    "scrolled": false
   },
   "outputs": [],
   "source": [
    "for i in range(len(reviews)):\n",
    "    text.append(reviews['text'].iloc[i])\n",
    "    title.append(reviews['title'].iloc[i])\n",
    "    brand.append(reviews['brand'].iloc[i])\n",
    "    author.append(reviews['author'].iloc[i])\n",
    "    stars.append(reviews['stars'].iloc[i])\n",
    "    key = reviews['key'].iloc[i]\n",
    "    products_key = products[products['key'] == key]\n",
    "    names.append(products_key['name'].values[0])\n",
    "    ratings.append(products_key['rating'].values[0])\n",
    "    rating_counts.append(products_key['rating_count'].values[0])"
   ]
  },
  {
   "cell_type": "code",
   "execution_count": 9,
   "metadata": {},
   "outputs": [],
   "source": [
    "data['author'] = author\n",
    "data['brand'] = brand\n",
    "data['name'] = names\n",
    "data['rating'] = ratings\n",
    "data['rating_count'] = rating_counts\n",
    "data['stars'] = stars\n",
    "data['title'] = title\n",
    "data['text'] = text"
   ]
  },
  {
   "cell_type": "markdown",
   "metadata": {},
   "source": [
    "Now we take a peek at the data and it's shape."
   ]
  },
  {
   "cell_type": "code",
   "execution_count": 10,
   "metadata": {},
   "outputs": [
    {
     "data": {
      "text/html": [
       "<div>\n",
       "<style scoped>\n",
       "    .dataframe tbody tr th:only-of-type {\n",
       "        vertical-align: middle;\n",
       "    }\n",
       "\n",
       "    .dataframe tbody tr th {\n",
       "        vertical-align: top;\n",
       "    }\n",
       "\n",
       "    .dataframe thead th {\n",
       "        text-align: right;\n",
       "    }\n",
       "</style>\n",
       "<table border=\"1\" class=\"dataframe\">\n",
       "  <thead>\n",
       "    <tr style=\"text-align: right;\">\n",
       "      <th></th>\n",
       "      <th>author</th>\n",
       "      <th>brand</th>\n",
       "      <th>name</th>\n",
       "      <th>rating</th>\n",
       "      <th>rating_count</th>\n",
       "      <th>stars</th>\n",
       "      <th>title</th>\n",
       "      <th>text</th>\n",
       "    </tr>\n",
       "  </thead>\n",
       "  <tbody>\n",
       "    <tr>\n",
       "      <th>0</th>\n",
       "      <td>Ilovebennjerry</td>\n",
       "      <td>bj</td>\n",
       "      <td>Salted Caramel Core</td>\n",
       "      <td>3.7</td>\n",
       "      <td>208</td>\n",
       "      <td>3</td>\n",
       "      <td>Not enough brownies!</td>\n",
       "      <td>Super good, don't get me wrong. But I came for...</td>\n",
       "    </tr>\n",
       "    <tr>\n",
       "      <th>1</th>\n",
       "      <td>Sweettooth909</td>\n",
       "      <td>bj</td>\n",
       "      <td>Salted Caramel Core</td>\n",
       "      <td>3.7</td>\n",
       "      <td>208</td>\n",
       "      <td>5</td>\n",
       "      <td>I’m OBSESSED with this pint!</td>\n",
       "      <td>I decided to try it out although I’m not a hug...</td>\n",
       "    </tr>\n",
       "    <tr>\n",
       "      <th>2</th>\n",
       "      <td>LaTanga71</td>\n",
       "      <td>bj</td>\n",
       "      <td>Salted Caramel Core</td>\n",
       "      <td>3.7</td>\n",
       "      <td>208</td>\n",
       "      <td>3</td>\n",
       "      <td>My favorite...More Caramel Please</td>\n",
       "      <td>My caramel core begins to disappear about half...</td>\n",
       "    </tr>\n",
       "  </tbody>\n",
       "</table>\n",
       "</div>"
      ],
      "text/plain": [
       "           author brand                 name  rating  rating_count  stars  \\\n",
       "0  Ilovebennjerry    bj  Salted Caramel Core     3.7           208      3   \n",
       "1   Sweettooth909    bj  Salted Caramel Core     3.7           208      5   \n",
       "2       LaTanga71    bj  Salted Caramel Core     3.7           208      3   \n",
       "\n",
       "                               title  \\\n",
       "0               Not enough brownies!   \n",
       "1       I’m OBSESSED with this pint!   \n",
       "2  My favorite...More Caramel Please   \n",
       "\n",
       "                                                text  \n",
       "0  Super good, don't get me wrong. But I came for...  \n",
       "1  I decided to try it out although I’m not a hug...  \n",
       "2  My caramel core begins to disappear about half...  "
      ]
     },
     "execution_count": 10,
     "metadata": {},
     "output_type": "execute_result"
    }
   ],
   "source": [
    "data.head(3)"
   ]
  },
  {
   "cell_type": "code",
   "execution_count": 11,
   "metadata": {},
   "outputs": [
    {
     "data": {
      "text/plain": [
       "(21674, 8)"
      ]
     },
     "execution_count": 11,
     "metadata": {},
     "output_type": "execute_result"
    }
   ],
   "source": [
    "data.shape"
   ]
  },
  {
   "cell_type": "markdown",
   "metadata": {},
   "source": [
    "## Inspecting Nulls And Data Types"
   ]
  },
  {
   "cell_type": "markdown",
   "metadata": {},
   "source": [
    "Now that there is one complete dataset, I can start checking out some of the data. I'll start with looking at some of the data types."
   ]
  },
  {
   "cell_type": "code",
   "execution_count": 12,
   "metadata": {},
   "outputs": [
    {
     "data": {
      "text/plain": [
       "author           object\n",
       "brand            object\n",
       "name             object\n",
       "rating          float64\n",
       "rating_count      int64\n",
       "stars             int64\n",
       "title            object\n",
       "text             object\n",
       "dtype: object"
      ]
     },
     "execution_count": 12,
     "metadata": {},
     "output_type": "execute_result"
    }
   ],
   "source": [
    "data.dtypes"
   ]
  },
  {
   "cell_type": "markdown",
   "metadata": {},
   "source": [
    "All these data types seem okay to me. Now, I can check the null values."
   ]
  },
  {
   "cell_type": "code",
   "execution_count": 13,
   "metadata": {},
   "outputs": [
    {
     "name": "stdout",
     "output_type": "stream",
     "text": [
      "author:  800\n",
      "brand:  0\n",
      "name:  0\n",
      "rating:  0\n",
      "rating_count:  0\n",
      "stars:  0\n",
      "title:  5399\n",
      "text:  0\n"
     ]
    }
   ],
   "source": [
    "for column in data:\n",
    "    print(column + \": \", sum(data[column].isnull()))"
   ]
  },
  {
   "cell_type": "markdown",
   "metadata": {},
   "source": [
    "So there are quite a few nulls in `title` and in `author`. That is okay. I wasn't really planning on using `author` anyways, I just have it for reference. As for `title`, that is alright too. The key data lives in `text`, which, luckily, doesn't contain any nulls. To deal with the nulls, I'll just fill them with empty strings."
   ]
  },
  {
   "cell_type": "code",
   "execution_count": 14,
   "metadata": {},
   "outputs": [],
   "source": [
    "data['title'].fillna('', inplace = True)"
   ]
  },
  {
   "cell_type": "markdown",
   "metadata": {},
   "source": [
    "## A Little Text Preprocessing"
   ]
  },
  {
   "cell_type": "markdown",
   "metadata": {},
   "source": [
    "I have two main columns with substantial textual data, `title` and `text`. For EDA and modelling, it is best to combine these into a single column. After that is done, I can remove stopwords, make everything lowercase and remove any special characers."
   ]
  },
  {
   "cell_type": "code",
   "execution_count": 15,
   "metadata": {},
   "outputs": [],
   "source": [
    "data['text'] = data[['title', 'text']].apply(' '.join, axis=1)"
   ]
  },
  {
   "cell_type": "code",
   "execution_count": 16,
   "metadata": {},
   "outputs": [],
   "source": [
    "data.drop(['title'], axis=1, inplace=True)"
   ]
  },
  {
   "cell_type": "code",
   "execution_count": 17,
   "metadata": {
    "scrolled": true
   },
   "outputs": [
    {
     "data": {
      "text/html": [
       "<div>\n",
       "<style scoped>\n",
       "    .dataframe tbody tr th:only-of-type {\n",
       "        vertical-align: middle;\n",
       "    }\n",
       "\n",
       "    .dataframe tbody tr th {\n",
       "        vertical-align: top;\n",
       "    }\n",
       "\n",
       "    .dataframe thead th {\n",
       "        text-align: right;\n",
       "    }\n",
       "</style>\n",
       "<table border=\"1\" class=\"dataframe\">\n",
       "  <thead>\n",
       "    <tr style=\"text-align: right;\">\n",
       "      <th></th>\n",
       "      <th>author</th>\n",
       "      <th>brand</th>\n",
       "      <th>name</th>\n",
       "      <th>rating</th>\n",
       "      <th>rating_count</th>\n",
       "      <th>stars</th>\n",
       "      <th>text</th>\n",
       "    </tr>\n",
       "  </thead>\n",
       "  <tbody>\n",
       "    <tr>\n",
       "      <th>0</th>\n",
       "      <td>Ilovebennjerry</td>\n",
       "      <td>bj</td>\n",
       "      <td>Salted Caramel Core</td>\n",
       "      <td>3.7</td>\n",
       "      <td>208</td>\n",
       "      <td>3</td>\n",
       "      <td>Not enough brownies! Super good, don't get me ...</td>\n",
       "    </tr>\n",
       "    <tr>\n",
       "      <th>1</th>\n",
       "      <td>Sweettooth909</td>\n",
       "      <td>bj</td>\n",
       "      <td>Salted Caramel Core</td>\n",
       "      <td>3.7</td>\n",
       "      <td>208</td>\n",
       "      <td>5</td>\n",
       "      <td>I’m OBSESSED with this pint! I decided to try ...</td>\n",
       "    </tr>\n",
       "    <tr>\n",
       "      <th>2</th>\n",
       "      <td>LaTanga71</td>\n",
       "      <td>bj</td>\n",
       "      <td>Salted Caramel Core</td>\n",
       "      <td>3.7</td>\n",
       "      <td>208</td>\n",
       "      <td>3</td>\n",
       "      <td>My favorite...More Caramel Please My caramel c...</td>\n",
       "    </tr>\n",
       "  </tbody>\n",
       "</table>\n",
       "</div>"
      ],
      "text/plain": [
       "           author brand                 name  rating  rating_count  stars  \\\n",
       "0  Ilovebennjerry    bj  Salted Caramel Core     3.7           208      3   \n",
       "1   Sweettooth909    bj  Salted Caramel Core     3.7           208      5   \n",
       "2       LaTanga71    bj  Salted Caramel Core     3.7           208      3   \n",
       "\n",
       "                                                text  \n",
       "0  Not enough brownies! Super good, don't get me ...  \n",
       "1  I’m OBSESSED with this pint! I decided to try ...  \n",
       "2  My favorite...More Caramel Please My caramel c...  "
      ]
     },
     "execution_count": 17,
     "metadata": {},
     "output_type": "execute_result"
    }
   ],
   "source": [
    "data.head(3)"
   ]
  },
  {
   "cell_type": "markdown",
   "metadata": {},
   "source": [
    "I will also clean the text up a bit and remove the stop words, so I can have a more usable text column."
   ]
  },
  {
   "cell_type": "code",
   "execution_count": 18,
   "metadata": {},
   "outputs": [],
   "source": [
    "def cleanText(text):\n",
    "    text = re.sub(r'https?:\\/\\/\\S+', '', text) # remove links\n",
    "    text = re.sub(r'@[A-Za-z0-0]+', '', text) # remove @\n",
    "    text = re.sub(r'[!@#$%^&*()_\\-+=}{[\\]|,.?<>:;\\'’`~]', '', text) # remove special characters\n",
    "    text = re.sub(r'[0-9]+[a-zA-Z]*', '', text) # remove numbers\n",
    "    return text"
   ]
  },
  {
   "cell_type": "code",
   "execution_count": 19,
   "metadata": {},
   "outputs": [],
   "source": [
    "data['text'] = data['text'].apply(cleanText)"
   ]
  },
  {
   "cell_type": "code",
   "execution_count": 20,
   "metadata": {},
   "outputs": [],
   "source": [
    "data['text'] = data['text'].apply(lambda words: ' '.join(word.lower() for word in words.split() if word not in stop))"
   ]
  },
  {
   "cell_type": "markdown",
   "metadata": {},
   "source": [
    "I'll also use a tokenizer and get the lemma from each word. This should make the modelling and sentiment analysis a bit easier."
   ]
  },
  {
   "cell_type": "code",
   "execution_count": 21,
   "metadata": {},
   "outputs": [],
   "source": [
    "tokenizer = WhitespaceTokenizer()\n",
    "lemmatizer = WordNetLemmatizer()"
   ]
  },
  {
   "cell_type": "code",
   "execution_count": 22,
   "metadata": {},
   "outputs": [],
   "source": [
    "def lemmatize_text(text):\n",
    "    return [lemmatizer.lemmatize(w) for w in tokenizer.tokenize(text)]"
   ]
  },
  {
   "cell_type": "code",
   "execution_count": 23,
   "metadata": {
    "scrolled": false
   },
   "outputs": [],
   "source": [
    "data['text'] = data['text'].apply(lemmatize_text)"
   ]
  },
  {
   "cell_type": "code",
   "execution_count": 24,
   "metadata": {},
   "outputs": [],
   "source": [
    "data['text'] = [' '.join(map(str, l)) for l in data['text']]"
   ]
  },
  {
   "cell_type": "code",
   "execution_count": 25,
   "metadata": {
    "scrolled": true
   },
   "outputs": [
    {
     "data": {
      "text/html": [
       "<div>\n",
       "<style scoped>\n",
       "    .dataframe tbody tr th:only-of-type {\n",
       "        vertical-align: middle;\n",
       "    }\n",
       "\n",
       "    .dataframe tbody tr th {\n",
       "        vertical-align: top;\n",
       "    }\n",
       "\n",
       "    .dataframe thead th {\n",
       "        text-align: right;\n",
       "    }\n",
       "</style>\n",
       "<table border=\"1\" class=\"dataframe\">\n",
       "  <thead>\n",
       "    <tr style=\"text-align: right;\">\n",
       "      <th></th>\n",
       "      <th>author</th>\n",
       "      <th>brand</th>\n",
       "      <th>name</th>\n",
       "      <th>rating</th>\n",
       "      <th>rating_count</th>\n",
       "      <th>stars</th>\n",
       "      <th>text</th>\n",
       "    </tr>\n",
       "  </thead>\n",
       "  <tbody>\n",
       "    <tr>\n",
       "      <th>0</th>\n",
       "      <td>Ilovebennjerry</td>\n",
       "      <td>bj</td>\n",
       "      <td>Salted Caramel Core</td>\n",
       "      <td>3.7</td>\n",
       "      <td>208</td>\n",
       "      <td>3</td>\n",
       "      <td>not enough brownie super good dont get wrong b...</td>\n",
       "    </tr>\n",
       "    <tr>\n",
       "      <th>1</th>\n",
       "      <td>Sweettooth909</td>\n",
       "      <td>bj</td>\n",
       "      <td>Salted Caramel Core</td>\n",
       "      <td>3.7</td>\n",
       "      <td>208</td>\n",
       "      <td>5</td>\n",
       "      <td>im obsessed pint i decided try although im hug...</td>\n",
       "    </tr>\n",
       "    <tr>\n",
       "      <th>2</th>\n",
       "      <td>LaTanga71</td>\n",
       "      <td>bj</td>\n",
       "      <td>Salted Caramel Core</td>\n",
       "      <td>3.7</td>\n",
       "      <td>208</td>\n",
       "      <td>3</td>\n",
       "      <td>my favoritemore caramel please my caramel core...</td>\n",
       "    </tr>\n",
       "  </tbody>\n",
       "</table>\n",
       "</div>"
      ],
      "text/plain": [
       "           author brand                 name  rating  rating_count  stars  \\\n",
       "0  Ilovebennjerry    bj  Salted Caramel Core     3.7           208      3   \n",
       "1   Sweettooth909    bj  Salted Caramel Core     3.7           208      5   \n",
       "2       LaTanga71    bj  Salted Caramel Core     3.7           208      3   \n",
       "\n",
       "                                                text  \n",
       "0  not enough brownie super good dont get wrong b...  \n",
       "1  im obsessed pint i decided try although im hug...  \n",
       "2  my favoritemore caramel please my caramel core...  "
      ]
     },
     "execution_count": 25,
     "metadata": {},
     "output_type": "execute_result"
    }
   ],
   "source": [
    "data.head(3)"
   ]
  },
  {
   "cell_type": "markdown",
   "metadata": {},
   "source": [
    "One last step. I am going to do a bit of feature engineering here. \n",
    "\n",
    "Ratings are given stars on a scale from 1 to 5. This would therefore give 5 different potential classes for each record. This makes this problem into a multi classification problem. I am not sure yet if I want to do a multi classification problem or a binary classification problem yet, so I am going to create a new column, `good_review`, that will take the value `Good` if `stars` is 4 or 5, and `Bad` otherwise"
   ]
  },
  {
   "cell_type": "code",
   "execution_count": 26,
   "metadata": {},
   "outputs": [],
   "source": [
    "data['good_review'] = np.where((data.stars == 4) | (data.stars==5), \"Good\", \"Bad\")"
   ]
  },
  {
   "cell_type": "code",
   "execution_count": 27,
   "metadata": {},
   "outputs": [
    {
     "data": {
      "text/html": [
       "<div>\n",
       "<style scoped>\n",
       "    .dataframe tbody tr th:only-of-type {\n",
       "        vertical-align: middle;\n",
       "    }\n",
       "\n",
       "    .dataframe tbody tr th {\n",
       "        vertical-align: top;\n",
       "    }\n",
       "\n",
       "    .dataframe thead th {\n",
       "        text-align: right;\n",
       "    }\n",
       "</style>\n",
       "<table border=\"1\" class=\"dataframe\">\n",
       "  <thead>\n",
       "    <tr style=\"text-align: right;\">\n",
       "      <th></th>\n",
       "      <th>author</th>\n",
       "      <th>brand</th>\n",
       "      <th>name</th>\n",
       "      <th>rating</th>\n",
       "      <th>rating_count</th>\n",
       "      <th>stars</th>\n",
       "      <th>text</th>\n",
       "      <th>good_review</th>\n",
       "    </tr>\n",
       "  </thead>\n",
       "  <tbody>\n",
       "    <tr>\n",
       "      <th>0</th>\n",
       "      <td>Ilovebennjerry</td>\n",
       "      <td>bj</td>\n",
       "      <td>Salted Caramel Core</td>\n",
       "      <td>3.7</td>\n",
       "      <td>208</td>\n",
       "      <td>3</td>\n",
       "      <td>not enough brownie super good dont get wrong b...</td>\n",
       "      <td>Bad</td>\n",
       "    </tr>\n",
       "    <tr>\n",
       "      <th>1</th>\n",
       "      <td>Sweettooth909</td>\n",
       "      <td>bj</td>\n",
       "      <td>Salted Caramel Core</td>\n",
       "      <td>3.7</td>\n",
       "      <td>208</td>\n",
       "      <td>5</td>\n",
       "      <td>im obsessed pint i decided try although im hug...</td>\n",
       "      <td>Good</td>\n",
       "    </tr>\n",
       "    <tr>\n",
       "      <th>2</th>\n",
       "      <td>LaTanga71</td>\n",
       "      <td>bj</td>\n",
       "      <td>Salted Caramel Core</td>\n",
       "      <td>3.7</td>\n",
       "      <td>208</td>\n",
       "      <td>3</td>\n",
       "      <td>my favoritemore caramel please my caramel core...</td>\n",
       "      <td>Bad</td>\n",
       "    </tr>\n",
       "    <tr>\n",
       "      <th>3</th>\n",
       "      <td>chicago220</td>\n",
       "      <td>bj</td>\n",
       "      <td>Salted Caramel Core</td>\n",
       "      <td>3.7</td>\n",
       "      <td>208</td>\n",
       "      <td>5</td>\n",
       "      <td>obsessed why people complaining blonde brownie...</td>\n",
       "      <td>Good</td>\n",
       "    </tr>\n",
       "  </tbody>\n",
       "</table>\n",
       "</div>"
      ],
      "text/plain": [
       "           author brand                 name  rating  rating_count  stars  \\\n",
       "0  Ilovebennjerry    bj  Salted Caramel Core     3.7           208      3   \n",
       "1   Sweettooth909    bj  Salted Caramel Core     3.7           208      5   \n",
       "2       LaTanga71    bj  Salted Caramel Core     3.7           208      3   \n",
       "3      chicago220    bj  Salted Caramel Core     3.7           208      5   \n",
       "\n",
       "                                                text good_review  \n",
       "0  not enough brownie super good dont get wrong b...         Bad  \n",
       "1  im obsessed pint i decided try although im hug...        Good  \n",
       "2  my favoritemore caramel please my caramel core...         Bad  \n",
       "3  obsessed why people complaining blonde brownie...        Good  "
      ]
     },
     "execution_count": 27,
     "metadata": {},
     "output_type": "execute_result"
    }
   ],
   "source": [
    "data.head(4)"
   ]
  },
  {
   "cell_type": "markdown",
   "metadata": {},
   "source": [
    "Great! This looks like a pretty solid data set to kick things off with. I'll save this as a csv and move on to the EDA."
   ]
  },
  {
   "cell_type": "markdown",
   "metadata": {},
   "source": [
    "# Save Data"
   ]
  },
  {
   "cell_type": "code",
   "execution_count": 28,
   "metadata": {},
   "outputs": [
    {
     "name": "stdout",
     "output_type": "stream",
     "text": [
      "A file already exists with this name.\n",
      "\n",
      "Do you want to overwrite? (Y/N)N\n",
      "\n",
      "Please re-run this cell with a new filename.\n"
     ]
    }
   ],
   "source": [
    "save_file(data, 'ice_cream_data.csv', '../data')"
   ]
  }
 ],
 "metadata": {
  "kernelspec": {
   "display_name": "Python 3",
   "language": "python",
   "name": "python3"
  },
  "language_info": {
   "codemirror_mode": {
    "name": "ipython",
    "version": 3
   },
   "file_extension": ".py",
   "mimetype": "text/x-python",
   "name": "python",
   "nbconvert_exporter": "python",
   "pygments_lexer": "ipython3",
   "version": "3.8.8"
  }
 },
 "nbformat": 4,
 "nbformat_minor": 4
}
